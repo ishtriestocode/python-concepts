{
 "cells": [
  {
   "cell_type": "code",
   "execution_count": 2,
   "id": "f1c11c10",
   "metadata": {},
   "outputs": [
    {
     "name": "stdout",
     "output_type": "stream",
     "text": [
      "{'name': 'ishita', 'rollno': '1234', 'address': 'jaipur'} <class 'dict'>\n"
     ]
    }
   ],
   "source": [
    "d={\"name\":\"ishita\",\"rollno\":\"1234\",\"address\":\"jaipur\"}\n",
    "print(d,type(d))"
   ]
  },
  {
   "cell_type": "code",
   "execution_count": 3,
   "id": "f25096ed",
   "metadata": {},
   "outputs": [
    {
     "data": {
      "text/plain": [
       "140345525580544"
      ]
     },
     "execution_count": 3,
     "metadata": {},
     "output_type": "execute_result"
    }
   ],
   "source": [
    "d[\"address\"]\n",
    "id(d)"
   ]
  },
  {
   "cell_type": "code",
   "execution_count": 5,
   "id": "3bc1da2a",
   "metadata": {},
   "outputs": [
    {
     "name": "stdout",
     "output_type": "stream",
     "text": [
      "{'name': 'ishita', 'rollno': '1234', 'address': 'ahmedabad'}\n"
     ]
    },
    {
     "data": {
      "text/plain": [
       "140345525580544"
      ]
     },
     "execution_count": 5,
     "metadata": {},
     "output_type": "execute_result"
    }
   ],
   "source": [
    "d[\"address\"]=\"ahmedabad\"\n",
    "print(d)\n",
    "id(d)"
   ]
  },
  {
   "cell_type": "code",
   "execution_count": 6,
   "id": "60212b2e",
   "metadata": {},
   "outputs": [
    {
     "name": "stdout",
     "output_type": "stream",
     "text": [
      "{'name': 'ishita', 'rollno': '1234', 'address': 'ahmedabad', 'age': 20}\n"
     ]
    }
   ],
   "source": [
    "d[\"age\"]=20\n",
    "print(d)"
   ]
  },
  {
   "cell_type": "code",
   "execution_count": 9,
   "id": "b5c70a24",
   "metadata": {},
   "outputs": [
    {
     "name": "stdout",
     "output_type": "stream",
     "text": [
      "name\n",
      "rollno\n",
      "address\n",
      "age\n"
     ]
    }
   ],
   "source": [
    "for k in d:\n",
    " print(k)"
   ]
  },
  {
   "cell_type": "code",
   "execution_count": 11,
   "id": "e0dd7497",
   "metadata": {},
   "outputs": [
    {
     "name": "stdout",
     "output_type": "stream",
     "text": [
      "name --- ishita\n",
      "rollno --- 1234\n",
      "address --- ahmedabad\n",
      "age --- 20\n"
     ]
    }
   ],
   "source": [
    "for k in d:\n",
    " print(k,\"---\",d[k])"
   ]
  },
  {
   "cell_type": "code",
   "execution_count": 12,
   "id": "d875bb55",
   "metadata": {},
   "outputs": [
    {
     "name": "stdout",
     "output_type": "stream",
     "text": [
      "True\n"
     ]
    }
   ],
   "source": [
    "print(\"name\" in d)"
   ]
  },
  {
   "cell_type": "code",
   "execution_count": 13,
   "id": "4925c1e3",
   "metadata": {},
   "outputs": [
    {
     "data": {
      "text/plain": [
       "4"
      ]
     },
     "execution_count": 13,
     "metadata": {},
     "output_type": "execute_result"
    }
   ],
   "source": [
    "len(d)"
   ]
  },
  {
   "cell_type": "code",
   "execution_count": 14,
   "id": "57fbe0d7",
   "metadata": {},
   "outputs": [
    {
     "data": {
      "text/plain": [
       "dict_items([('name', 'ishita'), ('rollno', '1234'), ('address', 'ahmedabad'), ('age', 20)])"
      ]
     },
     "execution_count": 14,
     "metadata": {},
     "output_type": "execute_result"
    }
   ],
   "source": [
    "d.items()"
   ]
  },
  {
   "cell_type": "code",
   "execution_count": 15,
   "id": "8b3c408a",
   "metadata": {},
   "outputs": [
    {
     "name": "stdout",
     "output_type": "stream",
     "text": [
      "name --- ishita\n",
      "rollno --- 1234\n",
      "address --- ahmedabad\n",
      "age --- 20\n"
     ]
    }
   ],
   "source": [
    "a=d.items()\n",
    "for k,j in a:\n",
    "    print(k,\"---\",j)"
   ]
  },
  {
   "cell_type": "code",
   "execution_count": 16,
   "id": "4b4abd79",
   "metadata": {},
   "outputs": [
    {
     "data": {
      "text/plain": [
       "dict_keys(['name', 'rollno', 'address', 'age'])"
      ]
     },
     "execution_count": 16,
     "metadata": {},
     "output_type": "execute_result"
    }
   ],
   "source": [
    "d.keys()"
   ]
  },
  {
   "cell_type": "code",
   "execution_count": 17,
   "id": "7fdb799d",
   "metadata": {},
   "outputs": [
    {
     "data": {
      "text/plain": [
       "dict_values(['ishita', '1234', 'ahmedabad', 20])"
      ]
     },
     "execution_count": 17,
     "metadata": {},
     "output_type": "execute_result"
    }
   ],
   "source": [
    "d.values()"
   ]
  },
  {
   "cell_type": "code",
   "execution_count": 18,
   "id": "ea33666f",
   "metadata": {},
   "outputs": [
    {
     "ename": "AttributeError",
     "evalue": "'dict' object has no attribute 'sort'",
     "output_type": "error",
     "traceback": [
      "\u001b[0;31m---------------------------------------------------------------------------\u001b[0m",
      "\u001b[0;31mAttributeError\u001b[0m                            Traceback (most recent call last)",
      "Cell \u001b[0;32mIn[18], line 1\u001b[0m\n\u001b[0;32m----> 1\u001b[0m \u001b[43md\u001b[49m\u001b[38;5;241;43m.\u001b[39;49m\u001b[43msort\u001b[49m()\n",
      "\u001b[0;31mAttributeError\u001b[0m: 'dict' object has no attribute 'sort'"
     ]
    }
   ],
   "source": [
    "d.sort()"
   ]
  },
  {
   "cell_type": "code",
   "execution_count": 20,
   "id": "6be0777b",
   "metadata": {},
   "outputs": [
    {
     "data": {
      "text/plain": [
       "['address', 'age', 'name', 'rollno']"
      ]
     },
     "execution_count": 20,
     "metadata": {},
     "output_type": "execute_result"
    }
   ],
   "source": [
    "sorted(d)"
   ]
  },
  {
   "cell_type": "code",
   "execution_count": 21,
   "id": "ba12187a",
   "metadata": {},
   "outputs": [
    {
     "data": {
      "text/plain": [
       "['rollno', 'name', 'age', 'address']"
      ]
     },
     "execution_count": 21,
     "metadata": {},
     "output_type": "execute_result"
    }
   ],
   "source": [
    "sorted(d,reverse=True)"
   ]
  },
  {
   "cell_type": "code",
   "execution_count": 22,
   "id": "886866e2",
   "metadata": {},
   "outputs": [
    {
     "data": {
      "text/plain": [
       "('age', 20)"
      ]
     },
     "execution_count": 22,
     "metadata": {},
     "output_type": "execute_result"
    }
   ],
   "source": [
    "d.popitem()"
   ]
  },
  {
   "cell_type": "code",
   "execution_count": 23,
   "id": "ee2ae7db",
   "metadata": {},
   "outputs": [],
   "source": [
    "d.clear()\n"
   ]
  },
  {
   "cell_type": "code",
   "execution_count": 24,
   "id": "4cbf56d6",
   "metadata": {},
   "outputs": [
    {
     "data": {
      "text/plain": [
       "{}"
      ]
     },
     "execution_count": 24,
     "metadata": {},
     "output_type": "execute_result"
    }
   ],
   "source": [
    "d"
   ]
  },
  {
   "cell_type": "code",
   "execution_count": 28,
   "id": "7d5a008c",
   "metadata": {},
   "outputs": [
    {
     "data": {
      "text/plain": [
       "'ishita'"
      ]
     },
     "execution_count": 28,
     "metadata": {},
     "output_type": "execute_result"
    }
   ],
   "source": [
    "d={\"name\":\"ishita\",\"rollno\":\"1234\",\"address\":\"jaipur\"}\n",
    "d.pop(\"name\")"
   ]
  },
  {
   "cell_type": "code",
   "execution_count": 30,
   "id": "e9e1fadf",
   "metadata": {},
   "outputs": [
    {
     "name": "stdout",
     "output_type": "stream",
     "text": [
      "enter the names:\"ish\" \"tutu\"\"okay\"\n"
     ]
    }
   ],
   "source": [
    "name=eval(input(\"enter the names:\"))\n"
   ]
  },
  {
   "cell_type": "code",
   "execution_count": 33,
   "id": "847bd367",
   "metadata": {},
   "outputs": [
    {
     "name": "stdout",
     "output_type": "stream",
     "text": [
      "enter the age:11 22 33 44 55\n"
     ]
    },
    {
     "data": {
      "text/plain": [
       "[11, 22, 33, 44, 55]"
      ]
     },
     "execution_count": 33,
     "metadata": {},
     "output_type": "execute_result"
    }
   ],
   "source": [
    "age=list(map(int,input(\"enter the age:\").split()))\n",
    "age"
   ]
  },
  {
   "cell_type": "code",
   "execution_count": null,
   "id": "4bbb072e",
   "metadata": {},
   "outputs": [],
   "source": []
  },
  {
   "cell_type": "code",
   "execution_count": 1,
   "id": "bf7a36dc",
   "metadata": {},
   "outputs": [
    {
     "name": "stdout",
     "output_type": "stream",
     "text": [
      "enter the employ id210 211 212 213 214 215 216 217 218 219 220 221 222 223 224 225\n",
      "enter the nameishita rahul ajay vijay ojas palak pallavi deepali kriti tanishka anchita vijay sajal simar megha aditya\n",
      "enter the addjaipur sikar ajmer ahmedabad jaipur kota hisar sikar sikar jaipur kota ahmedabad bhilwara ajmer jaipur\n",
      "enter the deptcs it mech cs it mech it it cs cs it mech electrical cs cs\n",
      "enter the employ age20 21 22 20 21 20 22 23 23 24 21 20 21 22 20\n",
      "enter the phone number5657484938 3938475647 1937568494 2048593853 3453498679 7647659323 7867676487 5657383947 5757575843 8784857683 3857693758 2857583848 4545454545 7686868683 7878739394\n"
     ]
    },
    {
     "data": {
      "text/plain": [
       "{'ID': [210,\n",
       "  211,\n",
       "  212,\n",
       "  213,\n",
       "  214,\n",
       "  215,\n",
       "  216,\n",
       "  217,\n",
       "  218,\n",
       "  219,\n",
       "  220,\n",
       "  221,\n",
       "  222,\n",
       "  223,\n",
       "  224,\n",
       "  225],\n",
       " 'employ_name': ['ishita',\n",
       "  'rahul',\n",
       "  'ajay',\n",
       "  'vijay',\n",
       "  'ojas',\n",
       "  'palak',\n",
       "  'pallavi',\n",
       "  'deepali',\n",
       "  'kriti',\n",
       "  'tanishka',\n",
       "  'anchita',\n",
       "  'vijay',\n",
       "  'sajal',\n",
       "  'simar',\n",
       "  'megha',\n",
       "  'aditya'],\n",
       " 'add': ['jaipur',\n",
       "  'sikar',\n",
       "  'ajmer',\n",
       "  'ahmedabad',\n",
       "  'jaipur',\n",
       "  'kota',\n",
       "  'hisar',\n",
       "  'sikar',\n",
       "  'sikar',\n",
       "  'jaipur',\n",
       "  'kota',\n",
       "  'ahmedabad',\n",
       "  'bhilwara',\n",
       "  'ajmer',\n",
       "  'jaipur'],\n",
       " 'dept': ['cs',\n",
       "  'it',\n",
       "  'mech',\n",
       "  'cs',\n",
       "  'it',\n",
       "  'mech',\n",
       "  'it',\n",
       "  'it',\n",
       "  'cs',\n",
       "  'cs',\n",
       "  'it',\n",
       "  'mech',\n",
       "  'electrical',\n",
       "  'cs',\n",
       "  'cs'],\n",
       " 'age': [20, 21, 22, 20, 21, 20, 22, 23, 23, 24, 21, 20, 21, 22, 20],\n",
       " 'PHONE NO': ['5657484938',\n",
       "  '3938475647',\n",
       "  '1937568494',\n",
       "  '2048593853',\n",
       "  '3453498679',\n",
       "  '7647659323',\n",
       "  '7867676487',\n",
       "  '5657383947',\n",
       "  '5757575843',\n",
       "  '8784857683',\n",
       "  '3857693758',\n",
       "  '2857583848',\n",
       "  '4545454545',\n",
       "  '7686868683',\n",
       "  '7878739394']}"
      ]
     },
     "execution_count": 1,
     "metadata": {},
     "output_type": "execute_result"
    }
   ],
   "source": [
    "id=list(map(int,input(\"enter the employ id\").split()))\n",
    "name=input(\"enter the name\").split()\n",
    "add=input(\"enter the add\").split()\n",
    "dept=input(\"enter the dept\").split()\n",
    "age=list(map(int,input(\"enter the employ age\").split()))\n",
    "phone_no=input(\"enter the phone number\").split()\n",
    "emp_data={\"ID\":id,\"employ_name\":name,\"add\":add,\"dept\":dept,\"age\":age,\"PHONE NO\":phone_no}  \n",
    "emp_data"
   ]
  },
  {
   "cell_type": "code",
   "execution_count": 3,
   "id": "39519962",
   "metadata": {},
   "outputs": [
    {
     "name": "stdout",
     "output_type": "stream",
     "text": [
      "enter the employ id210 211 212 213 214 215 216 217 218 219 220 221 222 223 224\n",
      "enter the namerahul ajay vijay ojas palak pallavi deepali kriti tanishka anchita vijay sajal simar megha aditya\n",
      "enter the addjaipur sikar ajmer ahmedabad jaipur kota hisar sikar sikar jaipur kota ahmedabad bhilwara ajmer jaipur\n",
      "enter the deptcs it mech cs it mech it it cs cs it mech electrical cs cs\n",
      "enter the employ age20 21 22 20 21 20 22 23 23 24 21 20 21 22 20\n",
      "enter the phone number5657484938 3938475647 1937568494 2048593853 3453498679 7647659323 7867676487 5657383947 5757575843 8784857683 3857693758 2857583848 4545454545 7686868683 7878739394\n"
     ]
    },
    {
     "data": {
      "text/html": [
       "<div>\n",
       "<style scoped>\n",
       "    .dataframe tbody tr th:only-of-type {\n",
       "        vertical-align: middle;\n",
       "    }\n",
       "\n",
       "    .dataframe tbody tr th {\n",
       "        vertical-align: top;\n",
       "    }\n",
       "\n",
       "    .dataframe thead th {\n",
       "        text-align: right;\n",
       "    }\n",
       "</style>\n",
       "<table border=\"1\" class=\"dataframe\">\n",
       "  <thead>\n",
       "    <tr style=\"text-align: right;\">\n",
       "      <th></th>\n",
       "      <th>ID</th>\n",
       "      <th>employ_name</th>\n",
       "      <th>add</th>\n",
       "      <th>dept</th>\n",
       "      <th>age</th>\n",
       "      <th>PHONE NO</th>\n",
       "    </tr>\n",
       "  </thead>\n",
       "  <tbody>\n",
       "    <tr>\n",
       "      <th>0</th>\n",
       "      <td>210</td>\n",
       "      <td>rahul</td>\n",
       "      <td>jaipur</td>\n",
       "      <td>cs</td>\n",
       "      <td>20</td>\n",
       "      <td>5657484938</td>\n",
       "    </tr>\n",
       "    <tr>\n",
       "      <th>1</th>\n",
       "      <td>211</td>\n",
       "      <td>ajay</td>\n",
       "      <td>sikar</td>\n",
       "      <td>it</td>\n",
       "      <td>21</td>\n",
       "      <td>3938475647</td>\n",
       "    </tr>\n",
       "    <tr>\n",
       "      <th>2</th>\n",
       "      <td>212</td>\n",
       "      <td>vijay</td>\n",
       "      <td>ajmer</td>\n",
       "      <td>mech</td>\n",
       "      <td>22</td>\n",
       "      <td>1937568494</td>\n",
       "    </tr>\n",
       "    <tr>\n",
       "      <th>3</th>\n",
       "      <td>213</td>\n",
       "      <td>ojas</td>\n",
       "      <td>ahmedabad</td>\n",
       "      <td>cs</td>\n",
       "      <td>20</td>\n",
       "      <td>2048593853</td>\n",
       "    </tr>\n",
       "    <tr>\n",
       "      <th>4</th>\n",
       "      <td>214</td>\n",
       "      <td>palak</td>\n",
       "      <td>jaipur</td>\n",
       "      <td>it</td>\n",
       "      <td>21</td>\n",
       "      <td>3453498679</td>\n",
       "    </tr>\n",
       "    <tr>\n",
       "      <th>5</th>\n",
       "      <td>215</td>\n",
       "      <td>pallavi</td>\n",
       "      <td>kota</td>\n",
       "      <td>mech</td>\n",
       "      <td>20</td>\n",
       "      <td>7647659323</td>\n",
       "    </tr>\n",
       "    <tr>\n",
       "      <th>6</th>\n",
       "      <td>216</td>\n",
       "      <td>deepali</td>\n",
       "      <td>hisar</td>\n",
       "      <td>it</td>\n",
       "      <td>22</td>\n",
       "      <td>7867676487</td>\n",
       "    </tr>\n",
       "    <tr>\n",
       "      <th>7</th>\n",
       "      <td>217</td>\n",
       "      <td>kriti</td>\n",
       "      <td>sikar</td>\n",
       "      <td>it</td>\n",
       "      <td>23</td>\n",
       "      <td>5657383947</td>\n",
       "    </tr>\n",
       "    <tr>\n",
       "      <th>8</th>\n",
       "      <td>218</td>\n",
       "      <td>tanishka</td>\n",
       "      <td>sikar</td>\n",
       "      <td>cs</td>\n",
       "      <td>23</td>\n",
       "      <td>5757575843</td>\n",
       "    </tr>\n",
       "    <tr>\n",
       "      <th>9</th>\n",
       "      <td>219</td>\n",
       "      <td>anchita</td>\n",
       "      <td>jaipur</td>\n",
       "      <td>cs</td>\n",
       "      <td>24</td>\n",
       "      <td>8784857683</td>\n",
       "    </tr>\n",
       "    <tr>\n",
       "      <th>10</th>\n",
       "      <td>220</td>\n",
       "      <td>vijay</td>\n",
       "      <td>kota</td>\n",
       "      <td>it</td>\n",
       "      <td>21</td>\n",
       "      <td>3857693758</td>\n",
       "    </tr>\n",
       "    <tr>\n",
       "      <th>11</th>\n",
       "      <td>221</td>\n",
       "      <td>sajal</td>\n",
       "      <td>ahmedabad</td>\n",
       "      <td>mech</td>\n",
       "      <td>20</td>\n",
       "      <td>2857583848</td>\n",
       "    </tr>\n",
       "    <tr>\n",
       "      <th>12</th>\n",
       "      <td>222</td>\n",
       "      <td>simar</td>\n",
       "      <td>bhilwara</td>\n",
       "      <td>electrical</td>\n",
       "      <td>21</td>\n",
       "      <td>4545454545</td>\n",
       "    </tr>\n",
       "    <tr>\n",
       "      <th>13</th>\n",
       "      <td>223</td>\n",
       "      <td>megha</td>\n",
       "      <td>ajmer</td>\n",
       "      <td>cs</td>\n",
       "      <td>22</td>\n",
       "      <td>7686868683</td>\n",
       "    </tr>\n",
       "    <tr>\n",
       "      <th>14</th>\n",
       "      <td>224</td>\n",
       "      <td>aditya</td>\n",
       "      <td>jaipur</td>\n",
       "      <td>cs</td>\n",
       "      <td>20</td>\n",
       "      <td>7878739394</td>\n",
       "    </tr>\n",
       "  </tbody>\n",
       "</table>\n",
       "</div>"
      ],
      "text/plain": [
       "     ID employ_name        add        dept  age    PHONE NO\n",
       "0   210       rahul     jaipur          cs   20  5657484938\n",
       "1   211        ajay      sikar          it   21  3938475647\n",
       "2   212       vijay      ajmer        mech   22  1937568494\n",
       "3   213        ojas  ahmedabad          cs   20  2048593853\n",
       "4   214       palak     jaipur          it   21  3453498679\n",
       "5   215     pallavi       kota        mech   20  7647659323\n",
       "6   216     deepali      hisar          it   22  7867676487\n",
       "7   217       kriti      sikar          it   23  5657383947\n",
       "8   218    tanishka      sikar          cs   23  5757575843\n",
       "9   219     anchita     jaipur          cs   24  8784857683\n",
       "10  220       vijay       kota          it   21  3857693758\n",
       "11  221       sajal  ahmedabad        mech   20  2857583848\n",
       "12  222       simar   bhilwara  electrical   21  4545454545\n",
       "13  223       megha      ajmer          cs   22  7686868683\n",
       "14  224      aditya     jaipur          cs   20  7878739394"
      ]
     },
     "execution_count": 3,
     "metadata": {},
     "output_type": "execute_result"
    }
   ],
   "source": [
    "id=list(map(int,input(\"enter the employ id\").split()))\n",
    "name=input(\"enter the name\").split()\n",
    "add=input(\"enter the add\").split()\n",
    "dept=input(\"enter the dept\").split()\n",
    "age=list(map(int,input(\"enter the employ age\").split()))\n",
    "phone_no=input(\"enter the phone number\").split()\n",
    "emp_data={\"ID\":id,\"employ_name\":name,\"add\":add,\"dept\":dept,\"age\":age,\"PHONE NO\":phone_no}  \n",
    "import pandas as pd\n",
    "df=pd.DataFrame(emp_data)\n",
    "df"
   ]
  },
  {
   "cell_type": "code",
   "execution_count": 4,
   "id": "430fe4a3",
   "metadata": {},
   "outputs": [
    {
     "data": {
      "text/html": [
       "<div>\n",
       "<style scoped>\n",
       "    .dataframe tbody tr th:only-of-type {\n",
       "        vertical-align: middle;\n",
       "    }\n",
       "\n",
       "    .dataframe tbody tr th {\n",
       "        vertical-align: top;\n",
       "    }\n",
       "\n",
       "    .dataframe thead th {\n",
       "        text-align: right;\n",
       "    }\n",
       "</style>\n",
       "<table border=\"1\" class=\"dataframe\">\n",
       "  <thead>\n",
       "    <tr style=\"text-align: right;\">\n",
       "      <th></th>\n",
       "      <th>ID</th>\n",
       "      <th>employ_name</th>\n",
       "      <th>add</th>\n",
       "      <th>dept</th>\n",
       "      <th>age</th>\n",
       "      <th>PHONE NO</th>\n",
       "    </tr>\n",
       "  </thead>\n",
       "  <tbody>\n",
       "    <tr>\n",
       "      <th>0</th>\n",
       "      <td>210</td>\n",
       "      <td>rahul</td>\n",
       "      <td>jaipur</td>\n",
       "      <td>cs</td>\n",
       "      <td>20</td>\n",
       "      <td>5657484938</td>\n",
       "    </tr>\n",
       "    <tr>\n",
       "      <th>1</th>\n",
       "      <td>211</td>\n",
       "      <td>ajay</td>\n",
       "      <td>sikar</td>\n",
       "      <td>it</td>\n",
       "      <td>21</td>\n",
       "      <td>3938475647</td>\n",
       "    </tr>\n",
       "    <tr>\n",
       "      <th>2</th>\n",
       "      <td>212</td>\n",
       "      <td>vijay</td>\n",
       "      <td>ajmer</td>\n",
       "      <td>mech</td>\n",
       "      <td>22</td>\n",
       "      <td>1937568494</td>\n",
       "    </tr>\n",
       "    <tr>\n",
       "      <th>3</th>\n",
       "      <td>213</td>\n",
       "      <td>ojas</td>\n",
       "      <td>ahmedabad</td>\n",
       "      <td>cs</td>\n",
       "      <td>20</td>\n",
       "      <td>2048593853</td>\n",
       "    </tr>\n",
       "    <tr>\n",
       "      <th>4</th>\n",
       "      <td>214</td>\n",
       "      <td>palak</td>\n",
       "      <td>jaipur</td>\n",
       "      <td>it</td>\n",
       "      <td>21</td>\n",
       "      <td>3453498679</td>\n",
       "    </tr>\n",
       "  </tbody>\n",
       "</table>\n",
       "</div>"
      ],
      "text/plain": [
       "    ID employ_name        add  dept  age    PHONE NO\n",
       "0  210       rahul     jaipur    cs   20  5657484938\n",
       "1  211        ajay      sikar    it   21  3938475647\n",
       "2  212       vijay      ajmer  mech   22  1937568494\n",
       "3  213        ojas  ahmedabad    cs   20  2048593853\n",
       "4  214       palak     jaipur    it   21  3453498679"
      ]
     },
     "execution_count": 4,
     "metadata": {},
     "output_type": "execute_result"
    }
   ],
   "source": [
    "df.head()"
   ]
  },
  {
   "cell_type": "code",
   "execution_count": 5,
   "id": "e33b78c3",
   "metadata": {},
   "outputs": [
    {
     "data": {
      "text/html": [
       "<div>\n",
       "<style scoped>\n",
       "    .dataframe tbody tr th:only-of-type {\n",
       "        vertical-align: middle;\n",
       "    }\n",
       "\n",
       "    .dataframe tbody tr th {\n",
       "        vertical-align: top;\n",
       "    }\n",
       "\n",
       "    .dataframe thead th {\n",
       "        text-align: right;\n",
       "    }\n",
       "</style>\n",
       "<table border=\"1\" class=\"dataframe\">\n",
       "  <thead>\n",
       "    <tr style=\"text-align: right;\">\n",
       "      <th></th>\n",
       "      <th>ID</th>\n",
       "      <th>employ_name</th>\n",
       "      <th>add</th>\n",
       "      <th>dept</th>\n",
       "      <th>age</th>\n",
       "      <th>PHONE NO</th>\n",
       "    </tr>\n",
       "  </thead>\n",
       "  <tbody>\n",
       "    <tr>\n",
       "      <th>10</th>\n",
       "      <td>220</td>\n",
       "      <td>vijay</td>\n",
       "      <td>kota</td>\n",
       "      <td>it</td>\n",
       "      <td>21</td>\n",
       "      <td>3857693758</td>\n",
       "    </tr>\n",
       "    <tr>\n",
       "      <th>11</th>\n",
       "      <td>221</td>\n",
       "      <td>sajal</td>\n",
       "      <td>ahmedabad</td>\n",
       "      <td>mech</td>\n",
       "      <td>20</td>\n",
       "      <td>2857583848</td>\n",
       "    </tr>\n",
       "    <tr>\n",
       "      <th>12</th>\n",
       "      <td>222</td>\n",
       "      <td>simar</td>\n",
       "      <td>bhilwara</td>\n",
       "      <td>electrical</td>\n",
       "      <td>21</td>\n",
       "      <td>4545454545</td>\n",
       "    </tr>\n",
       "    <tr>\n",
       "      <th>13</th>\n",
       "      <td>223</td>\n",
       "      <td>megha</td>\n",
       "      <td>ajmer</td>\n",
       "      <td>cs</td>\n",
       "      <td>22</td>\n",
       "      <td>7686868683</td>\n",
       "    </tr>\n",
       "    <tr>\n",
       "      <th>14</th>\n",
       "      <td>224</td>\n",
       "      <td>aditya</td>\n",
       "      <td>jaipur</td>\n",
       "      <td>cs</td>\n",
       "      <td>20</td>\n",
       "      <td>7878739394</td>\n",
       "    </tr>\n",
       "  </tbody>\n",
       "</table>\n",
       "</div>"
      ],
      "text/plain": [
       "     ID employ_name        add        dept  age    PHONE NO\n",
       "10  220       vijay       kota          it   21  3857693758\n",
       "11  221       sajal  ahmedabad        mech   20  2857583848\n",
       "12  222       simar   bhilwara  electrical   21  4545454545\n",
       "13  223       megha      ajmer          cs   22  7686868683\n",
       "14  224      aditya     jaipur          cs   20  7878739394"
      ]
     },
     "execution_count": 5,
     "metadata": {},
     "output_type": "execute_result"
    }
   ],
   "source": [
    "df.tail()"
   ]
  },
  {
   "cell_type": "markdown",
   "id": "3b66d053",
   "metadata": {},
   "source": []
  },
  {
   "cell_type": "code",
   "execution_count": 6,
   "id": "673444d2",
   "metadata": {},
   "outputs": [
    {
     "data": {
      "text/html": [
       "<div>\n",
       "<style scoped>\n",
       "    .dataframe tbody tr th:only-of-type {\n",
       "        vertical-align: middle;\n",
       "    }\n",
       "\n",
       "    .dataframe tbody tr th {\n",
       "        vertical-align: top;\n",
       "    }\n",
       "\n",
       "    .dataframe thead th {\n",
       "        text-align: right;\n",
       "    }\n",
       "</style>\n",
       "<table border=\"1\" class=\"dataframe\">\n",
       "  <thead>\n",
       "    <tr style=\"text-align: right;\">\n",
       "      <th></th>\n",
       "      <th>ID</th>\n",
       "      <th>employ_name</th>\n",
       "      <th>add</th>\n",
       "      <th>dept</th>\n",
       "      <th>age</th>\n",
       "      <th>PHONE NO</th>\n",
       "    </tr>\n",
       "  </thead>\n",
       "  <tbody>\n",
       "    <tr>\n",
       "      <th>0</th>\n",
       "      <td>210</td>\n",
       "      <td>rahul</td>\n",
       "      <td>jaipur</td>\n",
       "      <td>cs</td>\n",
       "      <td>20</td>\n",
       "      <td>5657484938</td>\n",
       "    </tr>\n",
       "    <tr>\n",
       "      <th>1</th>\n",
       "      <td>211</td>\n",
       "      <td>ajay</td>\n",
       "      <td>sikar</td>\n",
       "      <td>it</td>\n",
       "      <td>21</td>\n",
       "      <td>3938475647</td>\n",
       "    </tr>\n",
       "    <tr>\n",
       "      <th>2</th>\n",
       "      <td>212</td>\n",
       "      <td>vijay</td>\n",
       "      <td>ajmer</td>\n",
       "      <td>mech</td>\n",
       "      <td>22</td>\n",
       "      <td>1937568494</td>\n",
       "    </tr>\n",
       "    <tr>\n",
       "      <th>3</th>\n",
       "      <td>213</td>\n",
       "      <td>ojas</td>\n",
       "      <td>ahmedabad</td>\n",
       "      <td>cs</td>\n",
       "      <td>20</td>\n",
       "      <td>2048593853</td>\n",
       "    </tr>\n",
       "    <tr>\n",
       "      <th>4</th>\n",
       "      <td>214</td>\n",
       "      <td>palak</td>\n",
       "      <td>jaipur</td>\n",
       "      <td>it</td>\n",
       "      <td>21</td>\n",
       "      <td>3453498679</td>\n",
       "    </tr>\n",
       "    <tr>\n",
       "      <th>5</th>\n",
       "      <td>215</td>\n",
       "      <td>pallavi</td>\n",
       "      <td>kota</td>\n",
       "      <td>mech</td>\n",
       "      <td>20</td>\n",
       "      <td>7647659323</td>\n",
       "    </tr>\n",
       "    <tr>\n",
       "      <th>6</th>\n",
       "      <td>216</td>\n",
       "      <td>deepali</td>\n",
       "      <td>hisar</td>\n",
       "      <td>it</td>\n",
       "      <td>22</td>\n",
       "      <td>7867676487</td>\n",
       "    </tr>\n",
       "    <tr>\n",
       "      <th>7</th>\n",
       "      <td>217</td>\n",
       "      <td>kriti</td>\n",
       "      <td>sikar</td>\n",
       "      <td>it</td>\n",
       "      <td>23</td>\n",
       "      <td>5657383947</td>\n",
       "    </tr>\n",
       "  </tbody>\n",
       "</table>\n",
       "</div>"
      ],
      "text/plain": [
       "    ID employ_name        add  dept  age    PHONE NO\n",
       "0  210       rahul     jaipur    cs   20  5657484938\n",
       "1  211        ajay      sikar    it   21  3938475647\n",
       "2  212       vijay      ajmer  mech   22  1937568494\n",
       "3  213        ojas  ahmedabad    cs   20  2048593853\n",
       "4  214       palak     jaipur    it   21  3453498679\n",
       "5  215     pallavi       kota  mech   20  7647659323\n",
       "6  216     deepali      hisar    it   22  7867676487\n",
       "7  217       kriti      sikar    it   23  5657383947"
      ]
     },
     "execution_count": 6,
     "metadata": {},
     "output_type": "execute_result"
    }
   ],
   "source": [
    "df.head(8)"
   ]
  },
  {
   "cell_type": "code",
   "execution_count": 8,
   "id": "926b19d1",
   "metadata": {},
   "outputs": [
    {
     "data": {
      "text/plain": [
       "'jaipur'"
      ]
     },
     "execution_count": 8,
     "metadata": {},
     "output_type": "execute_result"
    }
   ],
   "source": [
    "df[\"add\"][4]"
   ]
  },
  {
   "cell_type": "code",
   "execution_count": 9,
   "id": "6bb3c4cd",
   "metadata": {},
   "outputs": [
    {
     "data": {
      "text/html": [
       "<div>\n",
       "<style scoped>\n",
       "    .dataframe tbody tr th:only-of-type {\n",
       "        vertical-align: middle;\n",
       "    }\n",
       "\n",
       "    .dataframe tbody tr th {\n",
       "        vertical-align: top;\n",
       "    }\n",
       "\n",
       "    .dataframe thead th {\n",
       "        text-align: right;\n",
       "    }\n",
       "</style>\n",
       "<table border=\"1\" class=\"dataframe\">\n",
       "  <thead>\n",
       "    <tr style=\"text-align: right;\">\n",
       "      <th></th>\n",
       "      <th>ID</th>\n",
       "      <th>employ_name</th>\n",
       "      <th>add</th>\n",
       "      <th>dept</th>\n",
       "      <th>age</th>\n",
       "      <th>PHONE NO</th>\n",
       "    </tr>\n",
       "  </thead>\n",
       "  <tbody>\n",
       "    <tr>\n",
       "      <th>A</th>\n",
       "      <td>210</td>\n",
       "      <td>rahul</td>\n",
       "      <td>jaipur</td>\n",
       "      <td>cs</td>\n",
       "      <td>20</td>\n",
       "      <td>5657484938</td>\n",
       "    </tr>\n",
       "    <tr>\n",
       "      <th>B</th>\n",
       "      <td>211</td>\n",
       "      <td>ajay</td>\n",
       "      <td>sikar</td>\n",
       "      <td>it</td>\n",
       "      <td>21</td>\n",
       "      <td>3938475647</td>\n",
       "    </tr>\n",
       "    <tr>\n",
       "      <th>C</th>\n",
       "      <td>212</td>\n",
       "      <td>vijay</td>\n",
       "      <td>ajmer</td>\n",
       "      <td>mech</td>\n",
       "      <td>22</td>\n",
       "      <td>1937568494</td>\n",
       "    </tr>\n",
       "    <tr>\n",
       "      <th>D</th>\n",
       "      <td>213</td>\n",
       "      <td>ojas</td>\n",
       "      <td>ahmedabad</td>\n",
       "      <td>cs</td>\n",
       "      <td>20</td>\n",
       "      <td>2048593853</td>\n",
       "    </tr>\n",
       "    <tr>\n",
       "      <th>E</th>\n",
       "      <td>214</td>\n",
       "      <td>palak</td>\n",
       "      <td>jaipur</td>\n",
       "      <td>it</td>\n",
       "      <td>21</td>\n",
       "      <td>3453498679</td>\n",
       "    </tr>\n",
       "    <tr>\n",
       "      <th>F</th>\n",
       "      <td>215</td>\n",
       "      <td>pallavi</td>\n",
       "      <td>kota</td>\n",
       "      <td>mech</td>\n",
       "      <td>20</td>\n",
       "      <td>7647659323</td>\n",
       "    </tr>\n",
       "    <tr>\n",
       "      <th>G</th>\n",
       "      <td>216</td>\n",
       "      <td>deepali</td>\n",
       "      <td>hisar</td>\n",
       "      <td>it</td>\n",
       "      <td>22</td>\n",
       "      <td>7867676487</td>\n",
       "    </tr>\n",
       "    <tr>\n",
       "      <th>H</th>\n",
       "      <td>217</td>\n",
       "      <td>kriti</td>\n",
       "      <td>sikar</td>\n",
       "      <td>it</td>\n",
       "      <td>23</td>\n",
       "      <td>5657383947</td>\n",
       "    </tr>\n",
       "    <tr>\n",
       "      <th>I</th>\n",
       "      <td>218</td>\n",
       "      <td>tanishka</td>\n",
       "      <td>sikar</td>\n",
       "      <td>cs</td>\n",
       "      <td>23</td>\n",
       "      <td>5757575843</td>\n",
       "    </tr>\n",
       "    <tr>\n",
       "      <th>J</th>\n",
       "      <td>219</td>\n",
       "      <td>anchita</td>\n",
       "      <td>jaipur</td>\n",
       "      <td>cs</td>\n",
       "      <td>24</td>\n",
       "      <td>8784857683</td>\n",
       "    </tr>\n",
       "    <tr>\n",
       "      <th>K</th>\n",
       "      <td>220</td>\n",
       "      <td>vijay</td>\n",
       "      <td>kota</td>\n",
       "      <td>it</td>\n",
       "      <td>21</td>\n",
       "      <td>3857693758</td>\n",
       "    </tr>\n",
       "    <tr>\n",
       "      <th>L</th>\n",
       "      <td>221</td>\n",
       "      <td>sajal</td>\n",
       "      <td>ahmedabad</td>\n",
       "      <td>mech</td>\n",
       "      <td>20</td>\n",
       "      <td>2857583848</td>\n",
       "    </tr>\n",
       "    <tr>\n",
       "      <th>M</th>\n",
       "      <td>222</td>\n",
       "      <td>simar</td>\n",
       "      <td>bhilwara</td>\n",
       "      <td>electrical</td>\n",
       "      <td>21</td>\n",
       "      <td>4545454545</td>\n",
       "    </tr>\n",
       "    <tr>\n",
       "      <th>N</th>\n",
       "      <td>223</td>\n",
       "      <td>megha</td>\n",
       "      <td>ajmer</td>\n",
       "      <td>cs</td>\n",
       "      <td>22</td>\n",
       "      <td>7686868683</td>\n",
       "    </tr>\n",
       "    <tr>\n",
       "      <th>O</th>\n",
       "      <td>224</td>\n",
       "      <td>aditya</td>\n",
       "      <td>jaipur</td>\n",
       "      <td>cs</td>\n",
       "      <td>20</td>\n",
       "      <td>7878739394</td>\n",
       "    </tr>\n",
       "  </tbody>\n",
       "</table>\n",
       "</div>"
      ],
      "text/plain": [
       "    ID employ_name        add        dept  age    PHONE NO\n",
       "A  210       rahul     jaipur          cs   20  5657484938\n",
       "B  211        ajay      sikar          it   21  3938475647\n",
       "C  212       vijay      ajmer        mech   22  1937568494\n",
       "D  213        ojas  ahmedabad          cs   20  2048593853\n",
       "E  214       palak     jaipur          it   21  3453498679\n",
       "F  215     pallavi       kota        mech   20  7647659323\n",
       "G  216     deepali      hisar          it   22  7867676487\n",
       "H  217       kriti      sikar          it   23  5657383947\n",
       "I  218    tanishka      sikar          cs   23  5757575843\n",
       "J  219     anchita     jaipur          cs   24  8784857683\n",
       "K  220       vijay       kota          it   21  3857693758\n",
       "L  221       sajal  ahmedabad        mech   20  2857583848\n",
       "M  222       simar   bhilwara  electrical   21  4545454545\n",
       "N  223       megha      ajmer          cs   22  7686868683\n",
       "O  224      aditya     jaipur          cs   20  7878739394"
      ]
     },
     "execution_count": 9,
     "metadata": {},
     "output_type": "execute_result"
    }
   ],
   "source": [
    "import pandas as pd\n",
    "df=pd.DataFrame(emp_data,index=[\"A\",\"B\",\"C\",\"D\",\"E\",\"F\",\"G\",\"H\",\"I\",\"J\",\"K\",\"L\",\"M\",\"N\",\"O\"])\n",
    "df"
   ]
  },
  {
   "cell_type": "code",
   "execution_count": 13,
   "id": "7d30d215",
   "metadata": {},
   "outputs": [
    {
     "data": {
      "text/plain": [
       "'ahmedabad'"
      ]
     },
     "execution_count": 13,
     "metadata": {},
     "output_type": "execute_result"
    }
   ],
   "source": [
    "import pandas as pd\n",
    "df=pd.DataFrame(emp_data,index=[name])\n",
    "df[\"add\"][\"sajal\"]\n"
   ]
  },
  {
   "cell_type": "code",
   "execution_count": 15,
   "id": "4fceeabf",
   "metadata": {},
   "outputs": [
    {
     "data": {
      "text/html": [
       "<div>\n",
       "<style scoped>\n",
       "    .dataframe tbody tr th:only-of-type {\n",
       "        vertical-align: middle;\n",
       "    }\n",
       "\n",
       "    .dataframe tbody tr th {\n",
       "        vertical-align: top;\n",
       "    }\n",
       "\n",
       "    .dataframe thead th {\n",
       "        text-align: right;\n",
       "    }\n",
       "</style>\n",
       "<table border=\"1\" class=\"dataframe\">\n",
       "  <thead>\n",
       "    <tr style=\"text-align: right;\">\n",
       "      <th></th>\n",
       "      <th>ID</th>\n",
       "      <th>employ_name</th>\n",
       "      <th>add</th>\n",
       "      <th>dept</th>\n",
       "      <th>age</th>\n",
       "      <th>PHONE NO</th>\n",
       "    </tr>\n",
       "  </thead>\n",
       "  <tbody>\n",
       "    <tr>\n",
       "      <th>0</th>\n",
       "      <td>210</td>\n",
       "      <td>rahul</td>\n",
       "      <td>jaipur</td>\n",
       "      <td>cs</td>\n",
       "      <td>20</td>\n",
       "      <td>5657484938</td>\n",
       "    </tr>\n",
       "    <tr>\n",
       "      <th>1</th>\n",
       "      <td>211</td>\n",
       "      <td>ajay</td>\n",
       "      <td>sikar</td>\n",
       "      <td>it</td>\n",
       "      <td>21</td>\n",
       "      <td>3938475647</td>\n",
       "    </tr>\n",
       "    <tr>\n",
       "      <th>2</th>\n",
       "      <td>212</td>\n",
       "      <td>vijay</td>\n",
       "      <td>ajmer</td>\n",
       "      <td>mech</td>\n",
       "      <td>22</td>\n",
       "      <td>1937568494</td>\n",
       "    </tr>\n",
       "    <tr>\n",
       "      <th>3</th>\n",
       "      <td>213</td>\n",
       "      <td>ojas</td>\n",
       "      <td>ahmedabad</td>\n",
       "      <td>cs</td>\n",
       "      <td>20</td>\n",
       "      <td>2048593853</td>\n",
       "    </tr>\n",
       "    <tr>\n",
       "      <th>4</th>\n",
       "      <td>214</td>\n",
       "      <td>palak</td>\n",
       "      <td>jaipur</td>\n",
       "      <td>it</td>\n",
       "      <td>21</td>\n",
       "      <td>3453498679</td>\n",
       "    </tr>\n",
       "    <tr>\n",
       "      <th>5</th>\n",
       "      <td>215</td>\n",
       "      <td>pallavi</td>\n",
       "      <td>kota</td>\n",
       "      <td>mech</td>\n",
       "      <td>20</td>\n",
       "      <td>7647659323</td>\n",
       "    </tr>\n",
       "    <tr>\n",
       "      <th>6</th>\n",
       "      <td>216</td>\n",
       "      <td>deepali</td>\n",
       "      <td>hisar</td>\n",
       "      <td>it</td>\n",
       "      <td>22</td>\n",
       "      <td>7867676487</td>\n",
       "    </tr>\n",
       "    <tr>\n",
       "      <th>7</th>\n",
       "      <td>217</td>\n",
       "      <td>kriti</td>\n",
       "      <td>sikar</td>\n",
       "      <td>it</td>\n",
       "      <td>23</td>\n",
       "      <td>5657383947</td>\n",
       "    </tr>\n",
       "    <tr>\n",
       "      <th>8</th>\n",
       "      <td>218</td>\n",
       "      <td>tanishka</td>\n",
       "      <td>sikar</td>\n",
       "      <td>cs</td>\n",
       "      <td>23</td>\n",
       "      <td>5757575843</td>\n",
       "    </tr>\n",
       "    <tr>\n",
       "      <th>9</th>\n",
       "      <td>219</td>\n",
       "      <td>anchita</td>\n",
       "      <td>jaipur</td>\n",
       "      <td>cs</td>\n",
       "      <td>24</td>\n",
       "      <td>8784857683</td>\n",
       "    </tr>\n",
       "    <tr>\n",
       "      <th>10</th>\n",
       "      <td>220</td>\n",
       "      <td>vijay</td>\n",
       "      <td>kota</td>\n",
       "      <td>it</td>\n",
       "      <td>21</td>\n",
       "      <td>3857693758</td>\n",
       "    </tr>\n",
       "    <tr>\n",
       "      <th>11</th>\n",
       "      <td>221</td>\n",
       "      <td>sajal</td>\n",
       "      <td>ahmedabad</td>\n",
       "      <td>mech</td>\n",
       "      <td>20</td>\n",
       "      <td>2857583848</td>\n",
       "    </tr>\n",
       "    <tr>\n",
       "      <th>12</th>\n",
       "      <td>222</td>\n",
       "      <td>simar</td>\n",
       "      <td>bhilwara</td>\n",
       "      <td>electrical</td>\n",
       "      <td>21</td>\n",
       "      <td>4545454545</td>\n",
       "    </tr>\n",
       "    <tr>\n",
       "      <th>13</th>\n",
       "      <td>223</td>\n",
       "      <td>megha</td>\n",
       "      <td>ajmer</td>\n",
       "      <td>cs</td>\n",
       "      <td>22</td>\n",
       "      <td>7686868683</td>\n",
       "    </tr>\n",
       "    <tr>\n",
       "      <th>14</th>\n",
       "      <td>224</td>\n",
       "      <td>aditya</td>\n",
       "      <td>jaipur</td>\n",
       "      <td>cs</td>\n",
       "      <td>20</td>\n",
       "      <td>7878739394</td>\n",
       "    </tr>\n",
       "  </tbody>\n",
       "</table>\n",
       "</div>"
      ],
      "text/plain": [
       "     ID employ_name        add        dept  age    PHONE NO\n",
       "0   210       rahul     jaipur          cs   20  5657484938\n",
       "1   211        ajay      sikar          it   21  3938475647\n",
       "2   212       vijay      ajmer        mech   22  1937568494\n",
       "3   213        ojas  ahmedabad          cs   20  2048593853\n",
       "4   214       palak     jaipur          it   21  3453498679\n",
       "5   215     pallavi       kota        mech   20  7647659323\n",
       "6   216     deepali      hisar          it   22  7867676487\n",
       "7   217       kriti      sikar          it   23  5657383947\n",
       "8   218    tanishka      sikar          cs   23  5757575843\n",
       "9   219     anchita     jaipur          cs   24  8784857683\n",
       "10  220       vijay       kota          it   21  3857693758\n",
       "11  221       sajal  ahmedabad        mech   20  2857583848\n",
       "12  222       simar   bhilwara  electrical   21  4545454545\n",
       "13  223       megha      ajmer          cs   22  7686868683\n",
       "14  224      aditya     jaipur          cs   20  7878739394"
      ]
     },
     "execution_count": 15,
     "metadata": {},
     "output_type": "execute_result"
    }
   ],
   "source": [
    "import pandas as pd\n",
    "df=pd.DataFrame(emp_data)\n",
    "df"
   ]
  },
  {
   "cell_type": "code",
   "execution_count": 16,
   "id": "15496aa3",
   "metadata": {},
   "outputs": [
    {
     "data": {
      "text/plain": [
       "'cs'"
      ]
     },
     "execution_count": 16,
     "metadata": {},
     "output_type": "execute_result"
    }
   ],
   "source": [
    "df[\"dept\"][8]"
   ]
  },
  {
   "cell_type": "code",
   "execution_count": 17,
   "id": "1a543b2b",
   "metadata": {},
   "outputs": [
    {
     "name": "stderr",
     "output_type": "stream",
     "text": [
      "/var/folders/32/gzlv94vs0n9_8zhf76n9h16r0000gn/T/ipykernel_89905/2013624492.py:1: SettingWithCopyWarning: \n",
      "A value is trying to be set on a copy of a slice from a DataFrame\n",
      "\n",
      "See the caveats in the documentation: https://pandas.pydata.org/pandas-docs/stable/user_guide/indexing.html#returning-a-view-versus-a-copy\n",
      "  df[\"dept\"][8]=\"mech\"\n"
     ]
    },
    {
     "data": {
      "text/html": [
       "<div>\n",
       "<style scoped>\n",
       "    .dataframe tbody tr th:only-of-type {\n",
       "        vertical-align: middle;\n",
       "    }\n",
       "\n",
       "    .dataframe tbody tr th {\n",
       "        vertical-align: top;\n",
       "    }\n",
       "\n",
       "    .dataframe thead th {\n",
       "        text-align: right;\n",
       "    }\n",
       "</style>\n",
       "<table border=\"1\" class=\"dataframe\">\n",
       "  <thead>\n",
       "    <tr style=\"text-align: right;\">\n",
       "      <th></th>\n",
       "      <th>ID</th>\n",
       "      <th>employ_name</th>\n",
       "      <th>add</th>\n",
       "      <th>dept</th>\n",
       "      <th>age</th>\n",
       "      <th>PHONE NO</th>\n",
       "    </tr>\n",
       "  </thead>\n",
       "  <tbody>\n",
       "    <tr>\n",
       "      <th>0</th>\n",
       "      <td>210</td>\n",
       "      <td>rahul</td>\n",
       "      <td>jaipur</td>\n",
       "      <td>cs</td>\n",
       "      <td>20</td>\n",
       "      <td>5657484938</td>\n",
       "    </tr>\n",
       "    <tr>\n",
       "      <th>1</th>\n",
       "      <td>211</td>\n",
       "      <td>ajay</td>\n",
       "      <td>sikar</td>\n",
       "      <td>it</td>\n",
       "      <td>21</td>\n",
       "      <td>3938475647</td>\n",
       "    </tr>\n",
       "    <tr>\n",
       "      <th>2</th>\n",
       "      <td>212</td>\n",
       "      <td>vijay</td>\n",
       "      <td>ajmer</td>\n",
       "      <td>mech</td>\n",
       "      <td>22</td>\n",
       "      <td>1937568494</td>\n",
       "    </tr>\n",
       "    <tr>\n",
       "      <th>3</th>\n",
       "      <td>213</td>\n",
       "      <td>ojas</td>\n",
       "      <td>ahmedabad</td>\n",
       "      <td>cs</td>\n",
       "      <td>20</td>\n",
       "      <td>2048593853</td>\n",
       "    </tr>\n",
       "    <tr>\n",
       "      <th>4</th>\n",
       "      <td>214</td>\n",
       "      <td>palak</td>\n",
       "      <td>jaipur</td>\n",
       "      <td>it</td>\n",
       "      <td>21</td>\n",
       "      <td>3453498679</td>\n",
       "    </tr>\n",
       "    <tr>\n",
       "      <th>5</th>\n",
       "      <td>215</td>\n",
       "      <td>pallavi</td>\n",
       "      <td>kota</td>\n",
       "      <td>mech</td>\n",
       "      <td>20</td>\n",
       "      <td>7647659323</td>\n",
       "    </tr>\n",
       "    <tr>\n",
       "      <th>6</th>\n",
       "      <td>216</td>\n",
       "      <td>deepali</td>\n",
       "      <td>hisar</td>\n",
       "      <td>it</td>\n",
       "      <td>22</td>\n",
       "      <td>7867676487</td>\n",
       "    </tr>\n",
       "    <tr>\n",
       "      <th>7</th>\n",
       "      <td>217</td>\n",
       "      <td>kriti</td>\n",
       "      <td>sikar</td>\n",
       "      <td>it</td>\n",
       "      <td>23</td>\n",
       "      <td>5657383947</td>\n",
       "    </tr>\n",
       "    <tr>\n",
       "      <th>8</th>\n",
       "      <td>218</td>\n",
       "      <td>tanishka</td>\n",
       "      <td>sikar</td>\n",
       "      <td>mech</td>\n",
       "      <td>23</td>\n",
       "      <td>5757575843</td>\n",
       "    </tr>\n",
       "    <tr>\n",
       "      <th>9</th>\n",
       "      <td>219</td>\n",
       "      <td>anchita</td>\n",
       "      <td>jaipur</td>\n",
       "      <td>cs</td>\n",
       "      <td>24</td>\n",
       "      <td>8784857683</td>\n",
       "    </tr>\n",
       "    <tr>\n",
       "      <th>10</th>\n",
       "      <td>220</td>\n",
       "      <td>vijay</td>\n",
       "      <td>kota</td>\n",
       "      <td>it</td>\n",
       "      <td>21</td>\n",
       "      <td>3857693758</td>\n",
       "    </tr>\n",
       "    <tr>\n",
       "      <th>11</th>\n",
       "      <td>221</td>\n",
       "      <td>sajal</td>\n",
       "      <td>ahmedabad</td>\n",
       "      <td>mech</td>\n",
       "      <td>20</td>\n",
       "      <td>2857583848</td>\n",
       "    </tr>\n",
       "    <tr>\n",
       "      <th>12</th>\n",
       "      <td>222</td>\n",
       "      <td>simar</td>\n",
       "      <td>bhilwara</td>\n",
       "      <td>electrical</td>\n",
       "      <td>21</td>\n",
       "      <td>4545454545</td>\n",
       "    </tr>\n",
       "    <tr>\n",
       "      <th>13</th>\n",
       "      <td>223</td>\n",
       "      <td>megha</td>\n",
       "      <td>ajmer</td>\n",
       "      <td>cs</td>\n",
       "      <td>22</td>\n",
       "      <td>7686868683</td>\n",
       "    </tr>\n",
       "    <tr>\n",
       "      <th>14</th>\n",
       "      <td>224</td>\n",
       "      <td>aditya</td>\n",
       "      <td>jaipur</td>\n",
       "      <td>cs</td>\n",
       "      <td>20</td>\n",
       "      <td>7878739394</td>\n",
       "    </tr>\n",
       "  </tbody>\n",
       "</table>\n",
       "</div>"
      ],
      "text/plain": [
       "     ID employ_name        add        dept  age    PHONE NO\n",
       "0   210       rahul     jaipur          cs   20  5657484938\n",
       "1   211        ajay      sikar          it   21  3938475647\n",
       "2   212       vijay      ajmer        mech   22  1937568494\n",
       "3   213        ojas  ahmedabad          cs   20  2048593853\n",
       "4   214       palak     jaipur          it   21  3453498679\n",
       "5   215     pallavi       kota        mech   20  7647659323\n",
       "6   216     deepali      hisar          it   22  7867676487\n",
       "7   217       kriti      sikar          it   23  5657383947\n",
       "8   218    tanishka      sikar        mech   23  5757575843\n",
       "9   219     anchita     jaipur          cs   24  8784857683\n",
       "10  220       vijay       kota          it   21  3857693758\n",
       "11  221       sajal  ahmedabad        mech   20  2857583848\n",
       "12  222       simar   bhilwara  electrical   21  4545454545\n",
       "13  223       megha      ajmer          cs   22  7686868683\n",
       "14  224      aditya     jaipur          cs   20  7878739394"
      ]
     },
     "execution_count": 17,
     "metadata": {},
     "output_type": "execute_result"
    }
   ],
   "source": [
    "df[\"dept\"][8]=\"mech\"\n",
    "df"
   ]
  },
  {
   "cell_type": "code",
   "execution_count": null,
   "id": "9c589863",
   "metadata": {},
   "outputs": [],
   "source": []
  }
 ],
 "metadata": {
  "kernelspec": {
   "display_name": "Python 3 (ipykernel)",
   "language": "python",
   "name": "python3"
  },
  "language_info": {
   "codemirror_mode": {
    "name": "ipython",
    "version": 3
   },
   "file_extension": ".py",
   "mimetype": "text/x-python",
   "name": "python",
   "nbconvert_exporter": "python",
   "pygments_lexer": "ipython3",
   "version": "3.10.9"
  }
 },
 "nbformat": 4,
 "nbformat_minor": 5
}

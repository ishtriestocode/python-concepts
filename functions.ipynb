{
 "cells": [
  {
   "cell_type": "code",
   "execution_count": 1,
   "id": "c6d6c4b6",
   "metadata": {},
   "outputs": [],
   "source": [
    "def even_odd(x):\n",
    "    if x%2==0:\n",
    "        print(x,\"is even no\")\n",
    "    else:\n",
    "        print(x,\"is odd no\")"
   ]
  },
  {
   "cell_type": "code",
   "execution_count": 3,
   "id": "4819e9fb",
   "metadata": {},
   "outputs": [
    {
     "name": "stdout",
     "output_type": "stream",
     "text": [
      "24 is even no\n"
     ]
    }
   ],
   "source": [
    "even_odd(24)"
   ]
  },
  {
   "cell_type": "code",
   "execution_count": 6,
   "id": "4339ea65",
   "metadata": {},
   "outputs": [],
   "source": [
    "def even_odd(x=56):\n",
    "    if x%2==0:\n",
    "        print(x,\"is even no\")\n",
    "    else:\n",
    "        print(x,\"is odd no\")"
   ]
  },
  {
   "cell_type": "code",
   "execution_count": 7,
   "id": "29dc72b0",
   "metadata": {},
   "outputs": [
    {
     "name": "stdout",
     "output_type": "stream",
     "text": [
      "56 is even no\n"
     ]
    }
   ],
   "source": [
    "even_odd()"
   ]
  },
  {
   "cell_type": "code",
   "execution_count": 17,
   "id": "147410c1",
   "metadata": {},
   "outputs": [],
   "source": [
    "l=[12,5,6,7,8,3,3,4,67,1]\n",
    "def eveodd(k)\n",
    "even=[]\n",
    "odd=[]\n",
    "for k in l:\n",
    "    if k%2==2:\n",
    "        even.append(k)\n",
    "    else:\n",
    "        odd.append(k)"
   ]
  },
  {
   "cell_type": "code",
   "execution_count": null,
   "id": "5372568d",
   "metadata": {},
   "outputs": [],
   "source": [
    "def prime_no(no):\n",
    "    if no>1:\n",
    "        for k in range(2,no):\n",
    "            if no%k==0:\n",
    "                print(n,\"no is not a prime no\")\n",
    "                break\n",
    "            else:\n",
    "                print(no,\"is a prime number\")\n",
    "        else:\n",
    "            print(no,\"is a prime no\")"
   ]
  },
  {
   "cell_type": "code",
   "execution_count": 49,
   "id": "4101f391",
   "metadata": {},
   "outputs": [
    {
     "name": "stdout",
     "output_type": "stream",
     "text": [
      "enter a number5\n",
      "5 is a prime\n"
     ]
    }
   ],
   "source": [
    "no=int(input(\"enter a number\"))\n",
    "prime_no(no)"
   ]
  },
  {
   "cell_type": "code",
   "execution_count": 19,
   "id": "ce85df85",
   "metadata": {},
   "outputs": [],
   "source": [
    "def prime_no(k):\n",
    "     if (k%k==0)&(k%1==0):\n",
    "      print(k,\"is a prime\")\n",
    "     else:\n",
    "      print(k,\"is not a prime no\")"
   ]
  },
  {
   "cell_type": "code",
   "execution_count": 21,
   "id": "66bf0197",
   "metadata": {},
   "outputs": [
    {
     "name": "stdout",
     "output_type": "stream",
     "text": [
      "5 is a prime\n"
     ]
    }
   ],
   "source": [
    "prime_no(5)"
   ]
  },
  {
   "cell_type": "code",
   "execution_count": 37,
   "id": "4966aa20",
   "metadata": {},
   "outputs": [],
   "source": [
    "l=[12,5,6,7,8,3,3,4,67,1]"
   ]
  },
  {
   "cell_type": "code",
   "execution_count": 47,
   "id": "19ffbc92",
   "metadata": {},
   "outputs": [],
   "source": [
    "def prime(l):\n",
    " prime=[]\n",
    " notprime=[]\n",
    " for k in range(2,len(l)):\n",
    "    if (k%k==0)&(k%1==0):\n",
    "        prime.append(k)\n",
    "    else:\n",
    "        notprime.append(k)\n",
    " print(prime)\n",
    " print(notprime)"
   ]
  },
  {
   "cell_type": "code",
   "execution_count": 48,
   "id": "f26fa435",
   "metadata": {},
   "outputs": [
    {
     "name": "stdout",
     "output_type": "stream",
     "text": [
      "[2, 3, 4, 5, 6, 7, 8, 9]\n",
      "[]\n"
     ]
    }
   ],
   "source": [
    "prime(l)\n"
   ]
  },
  {
   "cell_type": "code",
   "execution_count": 62,
   "id": "917243d4",
   "metadata": {},
   "outputs": [],
   "source": [
    "l2=[5,6,7,8,35,35,24]"
   ]
  },
  {
   "cell_type": "code",
   "execution_count": 87,
   "id": "1d6fb6cb",
   "metadata": {},
   "outputs": [],
   "source": [
    "def prime_no(l):\n",
    "    prime=[]\n",
    "    notprime=[]\n",
    "    for no in l:\n",
    "       if no>1:\n",
    "          for k in range(2,no):\n",
    "             if no%k==0:\n",
    "                 notprime.append(no)\n",
    "                 break\n",
    "          else:\n",
    "             prime.append(no)\n",
    "    print(prime)\n",
    "    print(notprime)"
   ]
  },
  {
   "cell_type": "code",
   "execution_count": 88,
   "id": "a8c8f2ef",
   "metadata": {},
   "outputs": [
    {
     "name": "stdout",
     "output_type": "stream",
     "text": [
      "[5, 7]\n",
      "[6, 8, 35, 35, 24]\n"
     ]
    }
   ],
   "source": [
    "prime_no(l2)"
   ]
  },
  {
   "cell_type": "code",
   "execution_count": 89,
   "id": "c987d4f4",
   "metadata": {},
   "outputs": [],
   "source": [
    "def prime_no():\n",
    "    u=15\n",
    "    l=1\n",
    "    for no in range(l,u+1):\n",
    "       if no>1:\n",
    "          for k in range(2,no):\n",
    "             if no%k==0:\n",
    "                 break\n",
    "          else:\n",
    "             print(no)"
   ]
  },
  {
   "cell_type": "code",
   "execution_count": 90,
   "id": "f0af800f",
   "metadata": {},
   "outputs": [
    {
     "name": "stdout",
     "output_type": "stream",
     "text": [
      "2\n",
      "3\n",
      "5\n",
      "7\n",
      "11\n",
      "13\n"
     ]
    }
   ],
   "source": [
    "prime_no()"
   ]
  },
  {
   "cell_type": "code",
   "execution_count": 91,
   "id": "bffb4275",
   "metadata": {},
   "outputs": [],
   "source": [
    "def prime_no(u=15,l=1):\n",
    "    for no in range(l,u+1):\n",
    "       if no>1:\n",
    "          for k in range(2,no):\n",
    "             if no%k==0:\n",
    "                 break\n",
    "          else:\n",
    "             print(no)"
   ]
  },
  {
   "cell_type": "code",
   "execution_count": 93,
   "id": "b77c405e",
   "metadata": {},
   "outputs": [
    {
     "name": "stdout",
     "output_type": "stream",
     "text": [
      "2\n",
      "3\n",
      "5\n",
      "7\n",
      "11\n",
      "13\n"
     ]
    }
   ],
   "source": [
    "prime_no()"
   ]
  },
  {
   "cell_type": "code",
   "execution_count": 96,
   "id": "1bda1326",
   "metadata": {},
   "outputs": [],
   "source": [
    "def info(name=\"ish\",age=\"20\",address=\"jaipur\"):\n",
    "    print(\"my name is\",name)\n",
    "    print(\"i am from\",address)\n",
    "    print(\"i am\",age,\"years old\")"
   ]
  },
  {
   "cell_type": "code",
   "execution_count": 97,
   "id": "449a5d52",
   "metadata": {},
   "outputs": [
    {
     "name": "stdout",
     "output_type": "stream",
     "text": [
      "my name is ish\n",
      "i am from jaipur\n",
      "i am 20 years old\n"
     ]
    }
   ],
   "source": [
    "info()"
   ]
  },
  {
   "cell_type": "code",
   "execution_count": 99,
   "id": "9379d797",
   "metadata": {},
   "outputs": [
    {
     "name": "stdout",
     "output_type": "stream",
     "text": [
      "my name is rahul\n",
      "i am from 45\n",
      "i am ahmedabad years old\n"
     ]
    }
   ],
   "source": [
    "info(\"rahul\",\"ahmedabad\",45)"
   ]
  },
  {
   "cell_type": "code",
   "execution_count": 100,
   "id": "505819b8",
   "metadata": {},
   "outputs": [
    {
     "name": "stdout",
     "output_type": "stream",
     "text": [
      "my name is rahul\n",
      "i am from ahmedabad\n",
      "i am 45 years old\n"
     ]
    }
   ],
   "source": [
    "info(name=\"rahul\",address=\"ahmedabad\",age=45)"
   ]
  },
  {
   "cell_type": "code",
   "execution_count": 102,
   "id": "52810b40",
   "metadata": {},
   "outputs": [],
   "source": [
    "def add(x,y):\n",
    "    add=x+y\n",
    "    print(add)"
   ]
  },
  {
   "cell_type": "code",
   "execution_count": 103,
   "id": "0b1105fe",
   "metadata": {},
   "outputs": [
    {
     "name": "stdout",
     "output_type": "stream",
     "text": [
      "65\n"
     ]
    }
   ],
   "source": [
    "add(9,56)"
   ]
  },
  {
   "cell_type": "code",
   "execution_count": 104,
   "id": "31ef18e8",
   "metadata": {},
   "outputs": [
    {
     "data": {
      "text/plain": [
       "function"
      ]
     },
     "execution_count": 104,
     "metadata": {},
     "output_type": "execute_result"
    }
   ],
   "source": [
    "type(add)"
   ]
  },
  {
   "cell_type": "code",
   "execution_count": 105,
   "id": "c33a68ce",
   "metadata": {},
   "outputs": [
    {
     "name": "stdout",
     "output_type": "stream",
     "text": [
      "9\n"
     ]
    },
    {
     "data": {
      "text/plain": [
       "NoneType"
      ]
     },
     "execution_count": 105,
     "metadata": {},
     "output_type": "execute_result"
    }
   ],
   "source": [
    "type(add(4,5))"
   ]
  },
  {
   "cell_type": "code",
   "execution_count": 107,
   "id": "d36a043f",
   "metadata": {},
   "outputs": [],
   "source": [
    "def add(x,y):\n",
    "    add=x+y\n",
    "    return add"
   ]
  },
  {
   "cell_type": "code",
   "execution_count": 108,
   "id": "f42aa813",
   "metadata": {},
   "outputs": [
    {
     "data": {
      "text/plain": [
       "int"
      ]
     },
     "execution_count": 108,
     "metadata": {},
     "output_type": "execute_result"
    }
   ],
   "source": [
    "type(add(4,5))"
   ]
  },
  {
   "cell_type": "code",
   "execution_count": 109,
   "id": "6ccc2f0a",
   "metadata": {},
   "outputs": [],
   "source": [
    "def add(x,y):\n",
    "    add=x+y\n",
    "    return add\n",
    "    return \"ish\""
   ]
  },
  {
   "cell_type": "code",
   "execution_count": 112,
   "id": "6b06665c",
   "metadata": {},
   "outputs": [
    {
     "data": {
      "text/plain": [
       "int"
      ]
     },
     "execution_count": 112,
     "metadata": {},
     "output_type": "execute_result"
    }
   ],
   "source": [
    "type(add(3,4))"
   ]
  },
  {
   "cell_type": "code",
   "execution_count": 111,
   "id": "aa5b47b1",
   "metadata": {},
   "outputs": [
    {
     "data": {
      "text/plain": [
       "9"
      ]
     },
     "execution_count": 111,
     "metadata": {},
     "output_type": "execute_result"
    }
   ],
   "source": [
    "add(4,5)"
   ]
  },
  {
   "cell_type": "code",
   "execution_count": 113,
   "id": "cbcac547",
   "metadata": {},
   "outputs": [],
   "source": [
    "def add(x,y):\n",
    "    add=x+y\n",
    "    print (add)\n",
    "    return \"ish\""
   ]
  },
  {
   "cell_type": "code",
   "execution_count": 114,
   "id": "0dfad0e9",
   "metadata": {},
   "outputs": [
    {
     "name": "stdout",
     "output_type": "stream",
     "text": [
      "9\n"
     ]
    },
    {
     "data": {
      "text/plain": [
       "'ish'"
      ]
     },
     "execution_count": 114,
     "metadata": {},
     "output_type": "execute_result"
    }
   ],
   "source": [
    "add(4,5)"
   ]
  },
  {
   "cell_type": "code",
   "execution_count": 115,
   "id": "4f5d875b",
   "metadata": {},
   "outputs": [],
   "source": [
    "def add(x,y):\n",
    "    add=x+y\n",
    "    yield add\n",
    "    yield \"ish\"\n",
    "    yield 4.5\n",
    "    yield 10+5j\n",
    "    "
   ]
  },
  {
   "cell_type": "code",
   "execution_count": 116,
   "id": "45fa4385",
   "metadata": {},
   "outputs": [
    {
     "data": {
      "text/plain": [
       "<generator object add at 0x7fbc64260ac0>"
      ]
     },
     "execution_count": 116,
     "metadata": {},
     "output_type": "execute_result"
    }
   ],
   "source": [
    "add(4,5)"
   ]
  },
  {
   "cell_type": "code",
   "execution_count": 118,
   "id": "d682c0b9",
   "metadata": {},
   "outputs": [
    {
     "name": "stdout",
     "output_type": "stream",
     "text": [
      "9 ---- <class 'int'>\n",
      "ish ---- <class 'str'>\n",
      "4.5 ---- <class 'float'>\n",
      "(10+5j) ---- <class 'complex'>\n"
     ]
    }
   ],
   "source": [
    "x=add(4,5)\n",
    "for k in x:\n",
    "    print(k,\"----\",type(k))"
   ]
  },
  {
   "cell_type": "code",
   "execution_count": 119,
   "id": "c7eed962",
   "metadata": {},
   "outputs": [
    {
     "data": {
      "text/plain": [
       "9"
      ]
     },
     "execution_count": 119,
     "metadata": {},
     "output_type": "execute_result"
    }
   ],
   "source": [
    "x=add(4,5)\n",
    "next(x)"
   ]
  },
  {
   "cell_type": "code",
   "execution_count": 120,
   "id": "abede87f",
   "metadata": {},
   "outputs": [
    {
     "data": {
      "text/plain": [
       "'ish'"
      ]
     },
     "execution_count": 120,
     "metadata": {},
     "output_type": "execute_result"
    }
   ],
   "source": [
    "next(x)"
   ]
  },
  {
   "cell_type": "code",
   "execution_count": 121,
   "id": "02359d50",
   "metadata": {},
   "outputs": [
    {
     "data": {
      "text/plain": [
       "4.5"
      ]
     },
     "execution_count": 121,
     "metadata": {},
     "output_type": "execute_result"
    }
   ],
   "source": [
    "next(x)"
   ]
  },
  {
   "cell_type": "code",
   "execution_count": 122,
   "id": "8416413e",
   "metadata": {},
   "outputs": [
    {
     "data": {
      "text/plain": [
       "(10+5j)"
      ]
     },
     "execution_count": 122,
     "metadata": {},
     "output_type": "execute_result"
    }
   ],
   "source": [
    "next(x)"
   ]
  },
  {
   "cell_type": "code",
   "execution_count": 123,
   "id": "cc663644",
   "metadata": {},
   "outputs": [
    {
     "ename": "StopIteration",
     "evalue": "",
     "output_type": "error",
     "traceback": [
      "\u001b[0;31m---------------------------------------------------------------------------\u001b[0m",
      "\u001b[0;31mStopIteration\u001b[0m                             Traceback (most recent call last)",
      "Cell \u001b[0;32mIn[123], line 1\u001b[0m\n\u001b[0;32m----> 1\u001b[0m \u001b[38;5;28;43mnext\u001b[39;49m\u001b[43m(\u001b[49m\u001b[43mx\u001b[49m\u001b[43m)\u001b[49m\n",
      "\u001b[0;31mStopIteration\u001b[0m: "
     ]
    }
   ],
   "source": [
    "next(x)"
   ]
  },
  {
   "cell_type": "code",
   "execution_count": 124,
   "id": "e516e57f",
   "metadata": {},
   "outputs": [],
   "source": [
    "import numpy as np\n",
    "ar=np.eye(4)"
   ]
  },
  {
   "cell_type": "code",
   "execution_count": 125,
   "id": "c379a043",
   "metadata": {},
   "outputs": [
    {
     "data": {
      "text/plain": [
       "array([[1., 0., 0., 0.],\n",
       "       [0., 1., 0., 0.],\n",
       "       [0., 0., 1., 0.],\n",
       "       [0., 0., 0., 1.]])"
      ]
     },
     "execution_count": 125,
     "metadata": {},
     "output_type": "execute_result"
    }
   ],
   "source": [
    "ar"
   ]
  },
  {
   "cell_type": "code",
   "execution_count": 127,
   "id": "0b658256",
   "metadata": {},
   "outputs": [],
   "source": [
    "ar=np.empty((4,3))"
   ]
  },
  {
   "cell_type": "code",
   "execution_count": 128,
   "id": "3d68845c",
   "metadata": {},
   "outputs": [
    {
     "data": {
      "text/plain": [
       "array([[0.00000000e+000, 0.00000000e+000, 0.00000000e+000],\n",
       "       [0.00000000e+000, 0.00000000e+000, 1.04082753e-047],\n",
       "       [7.42859943e-091, 1.48575046e-076, 1.26900931e-076],\n",
       "       [1.08589970e-042, 3.99910963e+252, 2.59305626e-306]])"
      ]
     },
     "execution_count": 128,
     "metadata": {},
     "output_type": "execute_result"
    }
   ],
   "source": [
    "ar"
   ]
  },
  {
   "cell_type": "code",
   "execution_count": 135,
   "id": "9be9d54a",
   "metadata": {},
   "outputs": [],
   "source": [
    "def opr(add,sub):\n",
    "    print(\"the operators are\")"
   ]
  },
  {
   "cell_type": "code",
   "execution_count": 132,
   "id": "403d384a",
   "metadata": {},
   "outputs": [],
   "source": [
    "def add():\n",
    "    a=20\n",
    "    b=34\n",
    "    add=a+b\n",
    "    print(add)"
   ]
  },
  {
   "cell_type": "code",
   "execution_count": 133,
   "id": "06f08b38",
   "metadata": {},
   "outputs": [],
   "source": [
    "def sub():\n",
    "    a=20\n",
    "    b=34\n",
    "    sub=a+b\n",
    "    print(sub)"
   ]
  },
  {
   "cell_type": "code",
   "execution_count": 136,
   "id": "2becf9b2",
   "metadata": {},
   "outputs": [
    {
     "name": "stdout",
     "output_type": "stream",
     "text": [
      "54\n",
      "54\n",
      "the operators are\n"
     ]
    }
   ],
   "source": [
    "opr(add(),sub())"
   ]
  },
  {
   "cell_type": "code",
   "execution_count": 138,
   "id": "bca7891e",
   "metadata": {},
   "outputs": [
    {
     "name": "stdout",
     "output_type": "stream",
     "text": [
      "addition of two no a and b is  9\n"
     ]
    }
   ],
   "source": [
    "(lambda a,b:print(\"addition of two no a and b is \",a+b))(4,5)"
   ]
  },
  {
   "cell_type": "code",
   "execution_count": 157,
   "id": "62592acb",
   "metadata": {},
   "outputs": [],
   "source": [
    "even_odd=(lambda a:(\"is even\")if x%2==0 else print(\"is odd\"))"
   ]
  },
  {
   "cell_type": "code",
   "execution_count": 158,
   "id": "d935e373",
   "metadata": {},
   "outputs": [
    {
     "data": {
      "text/plain": [
       "'is even'"
      ]
     },
     "execution_count": 158,
     "metadata": {},
     "output_type": "execute_result"
    }
   ],
   "source": [
    "even_odd(45)"
   ]
  },
  {
   "cell_type": "code",
   "execution_count": 145,
   "id": "dcc5bca6",
   "metadata": {},
   "outputs": [],
   "source": [
    "x=lambda a,b,c,d:a+b-c*d"
   ]
  },
  {
   "cell_type": "code",
   "execution_count": null,
   "id": "fe6b2615",
   "metadata": {},
   "outputs": [],
   "source": []
  },
  {
   "cell_type": "code",
   "execution_count": 146,
   "id": "b6a805a5",
   "metadata": {},
   "outputs": [
    {
     "data": {
      "text/plain": [
       "-33"
      ]
     },
     "execution_count": 146,
     "metadata": {},
     "output_type": "execute_result"
    }
   ],
   "source": [
    "x(4,5,6,7)"
   ]
  },
  {
   "cell_type": "code",
   "execution_count": 148,
   "id": "415f6731",
   "metadata": {},
   "outputs": [
    {
     "data": {
      "text/plain": [
       "-33"
      ]
     },
     "execution_count": 148,
     "metadata": {},
     "output_type": "execute_result"
    }
   ],
   "source": [
    "(lambda a,b,c,d:a+b-c*d)(4,5,6,7)"
   ]
  },
  {
   "cell_type": "code",
   "execution_count": 151,
   "id": "463f4495",
   "metadata": {},
   "outputs": [],
   "source": [
    "max_min=lambda x,y:print(x,\"is min\",y ,\"is max\")if x<y else print(x,\"is max\",y,\"is min\")"
   ]
  },
  {
   "cell_type": "code",
   "execution_count": 152,
   "id": "62c2d986",
   "metadata": {},
   "outputs": [
    {
     "name": "stdout",
     "output_type": "stream",
     "text": [
      "enter the value of x:88\n",
      "enter the value of y:99\n",
      "88 is min 99 is max\n"
     ]
    }
   ],
   "source": [
    "x=int(input(\"enter the value of x:\"))\n",
    "y=int(input(\"enter the value of y:\"))\n",
    "max_min(x,y)"
   ]
  },
  {
   "cell_type": "code",
   "execution_count": 160,
   "id": "e1b17c76",
   "metadata": {},
   "outputs": [
    {
     "name": "stdout",
     "output_type": "stream",
     "text": [
      "enter the obt marks:45\n",
      "enter the marks obtained100\n"
     ]
    }
   ],
   "source": [
    "per= lambda obt_marks=int(input(\"enter the obt marks:\")),total_marks=int(input(\"enter the total marks \")):print(round((obt_marks/total_marks)*100),\"% per\")"
   ]
  },
  {
   "cell_type": "code",
   "execution_count": 161,
   "id": "1607767a",
   "metadata": {},
   "outputs": [
    {
     "name": "stdout",
     "output_type": "stream",
     "text": [
      "45 % per\n"
     ]
    }
   ],
   "source": [
    "per()"
   ]
  },
  {
   "cell_type": "code",
   "execution_count": 168,
   "id": "2c6d8ba2",
   "metadata": {},
   "outputs": [],
   "source": [
    "xy=lambda a,b:lambda c,d:lambda e,f:lambda g,h:({\"add\":a+b,\"sub\":c-d,\"mul\":e*f,\"div\":g/h})"
   ]
  },
  {
   "cell_type": "code",
   "execution_count": 182,
   "id": "439680bb",
   "metadata": {},
   "outputs": [],
   "source": [
    "z=(xy(4,5)(5,7)(6,7)(2,7))"
   ]
  },
  {
   "cell_type": "code",
   "execution_count": 184,
   "id": "2e70d487",
   "metadata": {},
   "outputs": [
    {
     "data": {
      "text/plain": [
       "dict"
      ]
     },
     "execution_count": 184,
     "metadata": {},
     "output_type": "execute_result"
    }
   ],
   "source": [
    "type(z)"
   ]
  },
  {
   "cell_type": "code",
   "execution_count": 183,
   "id": "7d4de5b5",
   "metadata": {},
   "outputs": [
    {
     "data": {
      "text/plain": [
       "{'add': 9, 'sub': -2, 'mul': 42, 'div': 0.2857142857142857}"
      ]
     },
     "execution_count": 183,
     "metadata": {},
     "output_type": "execute_result"
    }
   ],
   "source": [
    "z"
   ]
  },
  {
   "cell_type": "code",
   "execution_count": 185,
   "id": "22b0421b",
   "metadata": {},
   "outputs": [
    {
     "name": "stdout",
     "output_type": "stream",
     "text": [
      "add --- 9\n",
      "sub --- -2\n",
      "mul --- 42\n",
      "div --- 0.2857142857142857\n"
     ]
    }
   ],
   "source": [
    "for k in z:\n",
    " print(k,\"---\",z[k])"
   ]
  },
  {
   "cell_type": "code",
   "execution_count": 186,
   "id": "4eaa8b57",
   "metadata": {},
   "outputs": [
    {
     "data": {
      "text/plain": [
       "dict_items([('add', 9), ('sub', -2), ('mul', 42), ('div', 0.2857142857142857)])"
      ]
     },
     "execution_count": 186,
     "metadata": {},
     "output_type": "execute_result"
    }
   ],
   "source": [
    "z.items()"
   ]
  },
  {
   "cell_type": "code",
   "execution_count": 187,
   "id": "db2f574a",
   "metadata": {},
   "outputs": [
    {
     "data": {
      "text/plain": [
       "432"
      ]
     },
     "execution_count": 187,
     "metadata": {},
     "output_type": "execute_result"
    }
   ],
   "source": [
    "(lambda l=[2,3,4,5,3,43,34,243,33,432,34,3]:max(l))()"
   ]
  },
  {
   "cell_type": "code",
   "execution_count": 191,
   "id": "2d0eb478",
   "metadata": {},
   "outputs": [],
   "source": [
    "def data(name):\n",
    "    name_list=[\"ish\",\"hello\",\"kitty\",\"kat\",\"ok\"]\n",
    "    if name in name_list:\n",
    "        return True \n",
    "    else:\n",
    "        return False\n",
    "    "
   ]
  },
  {
   "cell_type": "code",
   "execution_count": 192,
   "id": "e4c765f8",
   "metadata": {},
   "outputs": [
    {
     "name": "stdout",
     "output_type": "stream",
     "text": [
      "enter the name:ish kitt heloo france tik\n",
      "<filter object at 0x7fbc6170e950>\n"
     ]
    }
   ],
   "source": [
    "sequence =input(\"enter the name:\").split()\n",
    "filtered=filter(data,sequence)\n",
    "print(filtered)"
   ]
  },
  {
   "cell_type": "code",
   "execution_count": 193,
   "id": "744784b8",
   "metadata": {},
   "outputs": [
    {
     "data": {
      "text/plain": [
       "['ish']"
      ]
     },
     "execution_count": 193,
     "metadata": {},
     "output_type": "execute_result"
    }
   ],
   "source": [
    "list(filtered)"
   ]
  },
  {
   "cell_type": "code",
   "execution_count": 195,
   "id": "e2f5cbc6",
   "metadata": {},
   "outputs": [
    {
     "ename": "TypeError",
     "evalue": "'int' object is not iterable",
     "output_type": "error",
     "traceback": [
      "\u001b[0;31m---------------------------------------------------------------------------\u001b[0m",
      "\u001b[0;31mTypeError\u001b[0m                                 Traceback (most recent call last)",
      "Cell \u001b[0;32mIn[195], line 2\u001b[0m\n\u001b[1;32m      1\u001b[0m l\u001b[38;5;241m=\u001b[39m[\u001b[38;5;241m23\u001b[39m,\u001b[38;5;241m4\u001b[39m,\u001b[38;5;241m5\u001b[39m,\u001b[38;5;241m67\u001b[39m,\u001b[38;5;241m8\u001b[39m,\u001b[38;5;241m8\u001b[39m,\u001b[38;5;241m43\u001b[39m,\u001b[38;5;241m2\u001b[39m,\u001b[38;5;241m42\u001b[39m,\u001b[38;5;241m54657\u001b[39m,\u001b[38;5;241m68\u001b[39m,\u001b[38;5;241m643\u001b[39m,\u001b[38;5;241m2657\u001b[39m,\u001b[38;5;241m78\u001b[39m]\n\u001b[0;32m----> 2\u001b[0m even\u001b[38;5;241m=\u001b[39m\u001b[38;5;28;43mfilter\u001b[39;49m\u001b[43m(\u001b[49m\u001b[38;5;28;43;01mlambda\u001b[39;49;00m\u001b[43m \u001b[49m\u001b[43mx\u001b[49m\u001b[43m \u001b[49m\u001b[43m:\u001b[49m\u001b[43mx\u001b[49m\u001b[38;5;241;43m%\u001b[39;49m\u001b[38;5;241;43m2\u001b[39;49m\u001b[38;5;241;43m==\u001b[39;49m\u001b[38;5;241;43m0\u001b[39;49m\u001b[43m,\u001b[49m\u001b[38;5;241;43m1\u001b[39;49m\u001b[43m)\u001b[49m\n\u001b[1;32m      3\u001b[0m odd\u001b[38;5;241m=\u001b[39m\u001b[38;5;28mfilter\u001b[39m(\u001b[38;5;28;01mlambda\u001b[39;00m x :x\u001b[38;5;241m%\u001b[39m\u001b[38;5;241m2\u001b[39m\u001b[38;5;241m!=\u001b[39m\u001b[38;5;241m0\u001b[39m,\u001b[38;5;241m1\u001b[39m)\n",
      "\u001b[0;31mTypeError\u001b[0m: 'int' object is not iterable"
     ]
    }
   ],
   "source": [
    "l=[23,4,5,67,8,8,43,2,42,54657,68,643,2657,78]\n",
    "even=filter(lambda x :x%2==0,1)\n",
    "odd=filter(lambda x :x%2!=0,1)"
   ]
  },
  {
   "cell_type": "code",
   "execution_count": 196,
   "id": "8afb7360",
   "metadata": {},
   "outputs": [
    {
     "data": {
      "text/plain": [
       "[]"
      ]
     },
     "execution_count": 196,
     "metadata": {},
     "output_type": "execute_result"
    }
   ],
   "source": [
    "list(even)"
   ]
  },
  {
   "cell_type": "code",
   "execution_count": 197,
   "id": "12202103",
   "metadata": {},
   "outputs": [
    {
     "data": {
      "text/plain": [
       "[12, 5, 6, 7, 8, 3, 3, 4, 67, 1]"
      ]
     },
     "execution_count": 197,
     "metadata": {},
     "output_type": "execute_result"
    }
   ],
   "source": [
    "list(odd)"
   ]
  },
  {
   "cell_type": "code",
   "execution_count": 198,
   "id": "674f9256",
   "metadata": {},
   "outputs": [],
   "source": [
    "import pandas as pd \n",
    "df=pd.DataFrame({\"Name\":[\"sean\",\"jack\",\"monica\",\"ria\",\"charlie\"],\"status\":[\"father\",\"grandfather\",\"mother\",\"daughter\",\"son\"],\"birth_year\":[\"1970\",\"1989\",\"1955\",\"2005\",\"2000\"]})"
   ]
  },
  {
   "cell_type": "code",
   "execution_count": 200,
   "id": "c10ba847",
   "metadata": {},
   "outputs": [
    {
     "data": {
      "text/html": [
       "<div>\n",
       "<style scoped>\n",
       "    .dataframe tbody tr th:only-of-type {\n",
       "        vertical-align: middle;\n",
       "    }\n",
       "\n",
       "    .dataframe tbody tr th {\n",
       "        vertical-align: top;\n",
       "    }\n",
       "\n",
       "    .dataframe thead th {\n",
       "        text-align: right;\n",
       "    }\n",
       "</style>\n",
       "<table border=\"1\" class=\"dataframe\">\n",
       "  <thead>\n",
       "    <tr style=\"text-align: right;\">\n",
       "      <th></th>\n",
       "      <th>Name</th>\n",
       "      <th>status</th>\n",
       "      <th>birth_year</th>\n",
       "    </tr>\n",
       "  </thead>\n",
       "  <tbody>\n",
       "    <tr>\n",
       "      <th>0</th>\n",
       "      <td>sean</td>\n",
       "      <td>father</td>\n",
       "      <td>1970</td>\n",
       "    </tr>\n",
       "    <tr>\n",
       "      <th>1</th>\n",
       "      <td>jack</td>\n",
       "      <td>grandfather</td>\n",
       "      <td>1989</td>\n",
       "    </tr>\n",
       "    <tr>\n",
       "      <th>2</th>\n",
       "      <td>monica</td>\n",
       "      <td>mother</td>\n",
       "      <td>1955</td>\n",
       "    </tr>\n",
       "    <tr>\n",
       "      <th>3</th>\n",
       "      <td>ria</td>\n",
       "      <td>daughter</td>\n",
       "      <td>2005</td>\n",
       "    </tr>\n",
       "    <tr>\n",
       "      <th>4</th>\n",
       "      <td>charlie</td>\n",
       "      <td>son</td>\n",
       "      <td>2000</td>\n",
       "    </tr>\n",
       "  </tbody>\n",
       "</table>\n",
       "</div>"
      ],
      "text/plain": [
       "      Name       status birth_year\n",
       "0     sean       father       1970\n",
       "1     jack  grandfather       1989\n",
       "2   monica       mother       1955\n",
       "3      ria     daughter       2005\n",
       "4  charlie          son       2000"
      ]
     },
     "execution_count": 200,
     "metadata": {},
     "output_type": "execute_result"
    }
   ],
   "source": [
    "df"
   ]
  },
  {
   "cell_type": "code",
   "execution_count": 201,
   "id": "5d0f1d8d",
   "metadata": {},
   "outputs": [
    {
     "data": {
      "text/plain": [
       "0    1970\n",
       "1    1989\n",
       "2    1955\n",
       "3    2005\n",
       "4    2000\n",
       "Name: birth_year, dtype: object"
      ]
     },
     "execution_count": 201,
     "metadata": {},
     "output_type": "execute_result"
    }
   ],
   "source": [
    "df[\"birth_year\"]"
   ]
  },
  {
   "cell_type": "code",
   "execution_count": 204,
   "id": "ccca0e59",
   "metadata": {},
   "outputs": [
    {
     "ename": "TypeError",
     "evalue": "unsupported operand type(s) for -: 'int' and 'str'",
     "output_type": "error",
     "traceback": [
      "\u001b[0;31m---------------------------------------------------------------------------\u001b[0m",
      "\u001b[0;31mTypeError\u001b[0m                                 Traceback (most recent call last)",
      "Cell \u001b[0;32mIn[204], line 1\u001b[0m\n\u001b[0;32m----> 1\u001b[0m df[\u001b[38;5;124m\"\u001b[39m\u001b[38;5;124mage\u001b[39m\u001b[38;5;124m\"\u001b[39m]\u001b[38;5;241m=\u001b[39m\u001b[43mdf\u001b[49m\u001b[43m[\u001b[49m\u001b[38;5;124;43m\"\u001b[39;49m\u001b[38;5;124;43mbirth_year\u001b[39;49m\u001b[38;5;124;43m\"\u001b[39;49m\u001b[43m]\u001b[49m\u001b[38;5;241;43m.\u001b[39;49m\u001b[43mapply\u001b[49m\u001b[43m(\u001b[49m\u001b[38;5;28;43;01mlambda\u001b[39;49;00m\u001b[43m \u001b[49m\u001b[43mx\u001b[49m\u001b[43m:\u001b[49m\u001b[38;5;241;43m2023\u001b[39;49m\u001b[38;5;241;43m-\u001b[39;49m\u001b[43mx\u001b[49m\u001b[43m)\u001b[49m\n",
      "File \u001b[0;32m~/anaconda3/lib/python3.10/site-packages/pandas/core/series.py:4771\u001b[0m, in \u001b[0;36mSeries.apply\u001b[0;34m(self, func, convert_dtype, args, **kwargs)\u001b[0m\n\u001b[1;32m   4661\u001b[0m \u001b[38;5;28;01mdef\u001b[39;00m \u001b[38;5;21mapply\u001b[39m(\n\u001b[1;32m   4662\u001b[0m     \u001b[38;5;28mself\u001b[39m,\n\u001b[1;32m   4663\u001b[0m     func: AggFuncType,\n\u001b[0;32m   (...)\u001b[0m\n\u001b[1;32m   4666\u001b[0m     \u001b[38;5;241m*\u001b[39m\u001b[38;5;241m*\u001b[39mkwargs,\n\u001b[1;32m   4667\u001b[0m ) \u001b[38;5;241m-\u001b[39m\u001b[38;5;241m>\u001b[39m DataFrame \u001b[38;5;241m|\u001b[39m Series:\n\u001b[1;32m   4668\u001b[0m     \u001b[38;5;124;03m\"\"\"\u001b[39;00m\n\u001b[1;32m   4669\u001b[0m \u001b[38;5;124;03m    Invoke function on values of Series.\u001b[39;00m\n\u001b[1;32m   4670\u001b[0m \n\u001b[0;32m   (...)\u001b[0m\n\u001b[1;32m   4769\u001b[0m \u001b[38;5;124;03m    dtype: float64\u001b[39;00m\n\u001b[1;32m   4770\u001b[0m \u001b[38;5;124;03m    \"\"\"\u001b[39;00m\n\u001b[0;32m-> 4771\u001b[0m     \u001b[38;5;28;01mreturn\u001b[39;00m \u001b[43mSeriesApply\u001b[49m\u001b[43m(\u001b[49m\u001b[38;5;28;43mself\u001b[39;49m\u001b[43m,\u001b[49m\u001b[43m \u001b[49m\u001b[43mfunc\u001b[49m\u001b[43m,\u001b[49m\u001b[43m \u001b[49m\u001b[43mconvert_dtype\u001b[49m\u001b[43m,\u001b[49m\u001b[43m \u001b[49m\u001b[43margs\u001b[49m\u001b[43m,\u001b[49m\u001b[43m \u001b[49m\u001b[43mkwargs\u001b[49m\u001b[43m)\u001b[49m\u001b[38;5;241;43m.\u001b[39;49m\u001b[43mapply\u001b[49m\u001b[43m(\u001b[49m\u001b[43m)\u001b[49m\n",
      "File \u001b[0;32m~/anaconda3/lib/python3.10/site-packages/pandas/core/apply.py:1123\u001b[0m, in \u001b[0;36mSeriesApply.apply\u001b[0;34m(self)\u001b[0m\n\u001b[1;32m   1120\u001b[0m     \u001b[38;5;28;01mreturn\u001b[39;00m \u001b[38;5;28mself\u001b[39m\u001b[38;5;241m.\u001b[39mapply_str()\n\u001b[1;32m   1122\u001b[0m \u001b[38;5;66;03m# self.f is Callable\u001b[39;00m\n\u001b[0;32m-> 1123\u001b[0m \u001b[38;5;28;01mreturn\u001b[39;00m \u001b[38;5;28;43mself\u001b[39;49m\u001b[38;5;241;43m.\u001b[39;49m\u001b[43mapply_standard\u001b[49m\u001b[43m(\u001b[49m\u001b[43m)\u001b[49m\n",
      "File \u001b[0;32m~/anaconda3/lib/python3.10/site-packages/pandas/core/apply.py:1174\u001b[0m, in \u001b[0;36mSeriesApply.apply_standard\u001b[0;34m(self)\u001b[0m\n\u001b[1;32m   1172\u001b[0m     \u001b[38;5;28;01melse\u001b[39;00m:\n\u001b[1;32m   1173\u001b[0m         values \u001b[38;5;241m=\u001b[39m obj\u001b[38;5;241m.\u001b[39mastype(\u001b[38;5;28mobject\u001b[39m)\u001b[38;5;241m.\u001b[39m_values\n\u001b[0;32m-> 1174\u001b[0m         mapped \u001b[38;5;241m=\u001b[39m \u001b[43mlib\u001b[49m\u001b[38;5;241;43m.\u001b[39;49m\u001b[43mmap_infer\u001b[49m\u001b[43m(\u001b[49m\n\u001b[1;32m   1175\u001b[0m \u001b[43m            \u001b[49m\u001b[43mvalues\u001b[49m\u001b[43m,\u001b[49m\n\u001b[1;32m   1176\u001b[0m \u001b[43m            \u001b[49m\u001b[43mf\u001b[49m\u001b[43m,\u001b[49m\n\u001b[1;32m   1177\u001b[0m \u001b[43m            \u001b[49m\u001b[43mconvert\u001b[49m\u001b[38;5;241;43m=\u001b[39;49m\u001b[38;5;28;43mself\u001b[39;49m\u001b[38;5;241;43m.\u001b[39;49m\u001b[43mconvert_dtype\u001b[49m\u001b[43m,\u001b[49m\n\u001b[1;32m   1178\u001b[0m \u001b[43m        \u001b[49m\u001b[43m)\u001b[49m\n\u001b[1;32m   1180\u001b[0m \u001b[38;5;28;01mif\u001b[39;00m \u001b[38;5;28mlen\u001b[39m(mapped) \u001b[38;5;129;01mand\u001b[39;00m \u001b[38;5;28misinstance\u001b[39m(mapped[\u001b[38;5;241m0\u001b[39m], ABCSeries):\n\u001b[1;32m   1181\u001b[0m     \u001b[38;5;66;03m# GH#43986 Need to do list(mapped) in order to get treated as nested\u001b[39;00m\n\u001b[1;32m   1182\u001b[0m     \u001b[38;5;66;03m#  See also GH#25959 regarding EA support\u001b[39;00m\n\u001b[1;32m   1183\u001b[0m     \u001b[38;5;28;01mreturn\u001b[39;00m obj\u001b[38;5;241m.\u001b[39m_constructor_expanddim(\u001b[38;5;28mlist\u001b[39m(mapped), index\u001b[38;5;241m=\u001b[39mobj\u001b[38;5;241m.\u001b[39mindex)\n",
      "File \u001b[0;32m~/anaconda3/lib/python3.10/site-packages/pandas/_libs/lib.pyx:2924\u001b[0m, in \u001b[0;36mpandas._libs.lib.map_infer\u001b[0;34m()\u001b[0m\n",
      "Cell \u001b[0;32mIn[204], line 1\u001b[0m, in \u001b[0;36m<lambda>\u001b[0;34m(x)\u001b[0m\n\u001b[0;32m----> 1\u001b[0m df[\u001b[38;5;124m\"\u001b[39m\u001b[38;5;124mage\u001b[39m\u001b[38;5;124m\"\u001b[39m]\u001b[38;5;241m=\u001b[39mdf[\u001b[38;5;124m\"\u001b[39m\u001b[38;5;124mbirth_year\u001b[39m\u001b[38;5;124m\"\u001b[39m]\u001b[38;5;241m.\u001b[39mapply(\u001b[38;5;28;01mlambda\u001b[39;00m x:\u001b[38;5;241;43m2023\u001b[39;49m\u001b[38;5;241;43m-\u001b[39;49m\u001b[43mx\u001b[49m)\n",
      "\u001b[0;31mTypeError\u001b[0m: unsupported operand type(s) for -: 'int' and 'str'"
     ]
    }
   ],
   "source": [
    "df[\"age\"]=df[\"birth_year\"].apply(lambda x:2023-x)"
   ]
  },
  {
   "cell_type": "code",
   "execution_count": 205,
   "id": "905c3462",
   "metadata": {},
   "outputs": [
    {
     "data": {
      "text/html": [
       "<div>\n",
       "<style scoped>\n",
       "    .dataframe tbody tr th:only-of-type {\n",
       "        vertical-align: middle;\n",
       "    }\n",
       "\n",
       "    .dataframe tbody tr th {\n",
       "        vertical-align: top;\n",
       "    }\n",
       "\n",
       "    .dataframe thead th {\n",
       "        text-align: right;\n",
       "    }\n",
       "</style>\n",
       "<table border=\"1\" class=\"dataframe\">\n",
       "  <thead>\n",
       "    <tr style=\"text-align: right;\">\n",
       "      <th></th>\n",
       "      <th>Name</th>\n",
       "      <th>status</th>\n",
       "      <th>birth_year</th>\n",
       "    </tr>\n",
       "  </thead>\n",
       "  <tbody>\n",
       "    <tr>\n",
       "      <th>0</th>\n",
       "      <td>sean</td>\n",
       "      <td>father</td>\n",
       "      <td>1970</td>\n",
       "    </tr>\n",
       "    <tr>\n",
       "      <th>1</th>\n",
       "      <td>jack</td>\n",
       "      <td>grandfather</td>\n",
       "      <td>1989</td>\n",
       "    </tr>\n",
       "    <tr>\n",
       "      <th>2</th>\n",
       "      <td>monica</td>\n",
       "      <td>mother</td>\n",
       "      <td>1955</td>\n",
       "    </tr>\n",
       "    <tr>\n",
       "      <th>3</th>\n",
       "      <td>ria</td>\n",
       "      <td>daughter</td>\n",
       "      <td>2005</td>\n",
       "    </tr>\n",
       "    <tr>\n",
       "      <th>4</th>\n",
       "      <td>charlie</td>\n",
       "      <td>son</td>\n",
       "      <td>2000</td>\n",
       "    </tr>\n",
       "  </tbody>\n",
       "</table>\n",
       "</div>"
      ],
      "text/plain": [
       "      Name       status birth_year\n",
       "0     sean       father       1970\n",
       "1     jack  grandfather       1989\n",
       "2   monica       mother       1955\n",
       "3      ria     daughter       2005\n",
       "4  charlie          son       2000"
      ]
     },
     "execution_count": 205,
     "metadata": {},
     "output_type": "execute_result"
    }
   ],
   "source": [
    "df"
   ]
  },
  {
   "cell_type": "code",
   "execution_count": 206,
   "id": "1c504b97",
   "metadata": {},
   "outputs": [
    {
     "ename": "KeyError",
     "evalue": "'Status'",
     "output_type": "error",
     "traceback": [
      "\u001b[0;31m---------------------------------------------------------------------------\u001b[0m",
      "\u001b[0;31mKeyError\u001b[0m                                  Traceback (most recent call last)",
      "File \u001b[0;32m~/anaconda3/lib/python3.10/site-packages/pandas/core/indexes/base.py:3802\u001b[0m, in \u001b[0;36mIndex.get_loc\u001b[0;34m(self, key, method, tolerance)\u001b[0m\n\u001b[1;32m   3801\u001b[0m \u001b[38;5;28;01mtry\u001b[39;00m:\n\u001b[0;32m-> 3802\u001b[0m     \u001b[38;5;28;01mreturn\u001b[39;00m \u001b[38;5;28;43mself\u001b[39;49m\u001b[38;5;241;43m.\u001b[39;49m\u001b[43m_engine\u001b[49m\u001b[38;5;241;43m.\u001b[39;49m\u001b[43mget_loc\u001b[49m\u001b[43m(\u001b[49m\u001b[43mcasted_key\u001b[49m\u001b[43m)\u001b[49m\n\u001b[1;32m   3803\u001b[0m \u001b[38;5;28;01mexcept\u001b[39;00m \u001b[38;5;167;01mKeyError\u001b[39;00m \u001b[38;5;28;01mas\u001b[39;00m err:\n",
      "File \u001b[0;32m~/anaconda3/lib/python3.10/site-packages/pandas/_libs/index.pyx:138\u001b[0m, in \u001b[0;36mpandas._libs.index.IndexEngine.get_loc\u001b[0;34m()\u001b[0m\n",
      "File \u001b[0;32m~/anaconda3/lib/python3.10/site-packages/pandas/_libs/index.pyx:165\u001b[0m, in \u001b[0;36mpandas._libs.index.IndexEngine.get_loc\u001b[0;34m()\u001b[0m\n",
      "File \u001b[0;32mpandas/_libs/hashtable_class_helper.pxi:5745\u001b[0m, in \u001b[0;36mpandas._libs.hashtable.PyObjectHashTable.get_item\u001b[0;34m()\u001b[0m\n",
      "File \u001b[0;32mpandas/_libs/hashtable_class_helper.pxi:5753\u001b[0m, in \u001b[0;36mpandas._libs.hashtable.PyObjectHashTable.get_item\u001b[0;34m()\u001b[0m\n",
      "\u001b[0;31mKeyError\u001b[0m: 'Status'",
      "\nThe above exception was the direct cause of the following exception:\n",
      "\u001b[0;31mKeyError\u001b[0m                                  Traceback (most recent call last)",
      "Cell \u001b[0;32mIn[206], line 1\u001b[0m\n\u001b[0;32m----> 1\u001b[0m df[\u001b[38;5;124m\"\u001b[39m\u001b[38;5;124mgender\u001b[39m\u001b[38;5;124m\"\u001b[39m]\u001b[38;5;241m=\u001b[39m\u001b[43mdf\u001b[49m\u001b[43m[\u001b[49m\u001b[38;5;124;43m\"\u001b[39;49m\u001b[38;5;124;43mStatus\u001b[39;49m\u001b[38;5;124;43m\"\u001b[39;49m\u001b[43m]\u001b[49m\u001b[38;5;241m.\u001b[39mmap(\u001b[38;5;28;01mlambda\u001b[39;00m x:\u001b[38;5;124m\"\u001b[39m\u001b[38;5;124mfemale\u001b[39m\u001b[38;5;124m\"\u001b[39m \u001b[38;5;28;01mif\u001b[39;00m x\u001b[38;5;241m==\u001b[39m\u001b[38;5;124m\"\u001b[39m\u001b[38;5;124mDaughter\u001b[39m\u001b[38;5;124m\"\u001b[39m \u001b[38;5;129;01mor\u001b[39;00m x\u001b[38;5;241m==\u001b[39m\u001b[38;5;124m\"\u001b[39m\u001b[38;5;124mmother\u001b[39m\u001b[38;5;124m\"\u001b[39m\u001b[38;5;28;01melse\u001b[39;00m \u001b[38;5;124m\"\u001b[39m\u001b[38;5;124mmale\u001b[39m\u001b[38;5;124m\"\u001b[39m)\n",
      "File \u001b[0;32m~/anaconda3/lib/python3.10/site-packages/pandas/core/frame.py:3807\u001b[0m, in \u001b[0;36mDataFrame.__getitem__\u001b[0;34m(self, key)\u001b[0m\n\u001b[1;32m   3805\u001b[0m \u001b[38;5;28;01mif\u001b[39;00m \u001b[38;5;28mself\u001b[39m\u001b[38;5;241m.\u001b[39mcolumns\u001b[38;5;241m.\u001b[39mnlevels \u001b[38;5;241m>\u001b[39m \u001b[38;5;241m1\u001b[39m:\n\u001b[1;32m   3806\u001b[0m     \u001b[38;5;28;01mreturn\u001b[39;00m \u001b[38;5;28mself\u001b[39m\u001b[38;5;241m.\u001b[39m_getitem_multilevel(key)\n\u001b[0;32m-> 3807\u001b[0m indexer \u001b[38;5;241m=\u001b[39m \u001b[38;5;28;43mself\u001b[39;49m\u001b[38;5;241;43m.\u001b[39;49m\u001b[43mcolumns\u001b[49m\u001b[38;5;241;43m.\u001b[39;49m\u001b[43mget_loc\u001b[49m\u001b[43m(\u001b[49m\u001b[43mkey\u001b[49m\u001b[43m)\u001b[49m\n\u001b[1;32m   3808\u001b[0m \u001b[38;5;28;01mif\u001b[39;00m is_integer(indexer):\n\u001b[1;32m   3809\u001b[0m     indexer \u001b[38;5;241m=\u001b[39m [indexer]\n",
      "File \u001b[0;32m~/anaconda3/lib/python3.10/site-packages/pandas/core/indexes/base.py:3804\u001b[0m, in \u001b[0;36mIndex.get_loc\u001b[0;34m(self, key, method, tolerance)\u001b[0m\n\u001b[1;32m   3802\u001b[0m     \u001b[38;5;28;01mreturn\u001b[39;00m \u001b[38;5;28mself\u001b[39m\u001b[38;5;241m.\u001b[39m_engine\u001b[38;5;241m.\u001b[39mget_loc(casted_key)\n\u001b[1;32m   3803\u001b[0m \u001b[38;5;28;01mexcept\u001b[39;00m \u001b[38;5;167;01mKeyError\u001b[39;00m \u001b[38;5;28;01mas\u001b[39;00m err:\n\u001b[0;32m-> 3804\u001b[0m     \u001b[38;5;28;01mraise\u001b[39;00m \u001b[38;5;167;01mKeyError\u001b[39;00m(key) \u001b[38;5;28;01mfrom\u001b[39;00m \u001b[38;5;21;01merr\u001b[39;00m\n\u001b[1;32m   3805\u001b[0m \u001b[38;5;28;01mexcept\u001b[39;00m \u001b[38;5;167;01mTypeError\u001b[39;00m:\n\u001b[1;32m   3806\u001b[0m     \u001b[38;5;66;03m# If we have a listlike key, _check_indexing_error will raise\u001b[39;00m\n\u001b[1;32m   3807\u001b[0m     \u001b[38;5;66;03m#  InvalidIndexError. Otherwise we fall through and re-raise\u001b[39;00m\n\u001b[1;32m   3808\u001b[0m     \u001b[38;5;66;03m#  the TypeError.\u001b[39;00m\n\u001b[1;32m   3809\u001b[0m     \u001b[38;5;28mself\u001b[39m\u001b[38;5;241m.\u001b[39m_check_indexing_error(key)\n",
      "\u001b[0;31mKeyError\u001b[0m: 'Status'"
     ]
    }
   ],
   "source": [
    "df[\"gender\"]=df[\"Status\"].map(lambda x:\"female\" if x==\"Daughter\" or x==\"mother\"else \"male\")"
   ]
  },
  {
   "cell_type": "code",
   "execution_count": 207,
   "id": "1e023bf0",
   "metadata": {},
   "outputs": [
    {
     "data": {
      "text/html": [
       "<div>\n",
       "<style scoped>\n",
       "    .dataframe tbody tr th:only-of-type {\n",
       "        vertical-align: middle;\n",
       "    }\n",
       "\n",
       "    .dataframe tbody tr th {\n",
       "        vertical-align: top;\n",
       "    }\n",
       "\n",
       "    .dataframe thead th {\n",
       "        text-align: right;\n",
       "    }\n",
       "</style>\n",
       "<table border=\"1\" class=\"dataframe\">\n",
       "  <thead>\n",
       "    <tr style=\"text-align: right;\">\n",
       "      <th></th>\n",
       "      <th>Name</th>\n",
       "      <th>status</th>\n",
       "      <th>birth_year</th>\n",
       "    </tr>\n",
       "  </thead>\n",
       "  <tbody>\n",
       "    <tr>\n",
       "      <th>0</th>\n",
       "      <td>sean</td>\n",
       "      <td>father</td>\n",
       "      <td>1970</td>\n",
       "    </tr>\n",
       "    <tr>\n",
       "      <th>1</th>\n",
       "      <td>jack</td>\n",
       "      <td>grandfather</td>\n",
       "      <td>1989</td>\n",
       "    </tr>\n",
       "    <tr>\n",
       "      <th>2</th>\n",
       "      <td>monica</td>\n",
       "      <td>mother</td>\n",
       "      <td>1955</td>\n",
       "    </tr>\n",
       "    <tr>\n",
       "      <th>3</th>\n",
       "      <td>ria</td>\n",
       "      <td>daughter</td>\n",
       "      <td>2005</td>\n",
       "    </tr>\n",
       "    <tr>\n",
       "      <th>4</th>\n",
       "      <td>charlie</td>\n",
       "      <td>son</td>\n",
       "      <td>2000</td>\n",
       "    </tr>\n",
       "  </tbody>\n",
       "</table>\n",
       "</div>"
      ],
      "text/plain": [
       "      Name       status birth_year\n",
       "0     sean       father       1970\n",
       "1     jack  grandfather       1989\n",
       "2   monica       mother       1955\n",
       "3      ria     daughter       2005\n",
       "4  charlie          son       2000"
      ]
     },
     "execution_count": 207,
     "metadata": {},
     "output_type": "execute_result"
    }
   ],
   "source": [
    "df"
   ]
  },
  {
   "cell_type": "code",
   "execution_count": null,
   "id": "d7c8eb8e",
   "metadata": {},
   "outputs": [],
   "source": [
    "below1"
   ]
  }
 ],
 "metadata": {
  "kernelspec": {
   "display_name": "Python 3 (ipykernel)",
   "language": "python",
   "name": "python3"
  },
  "language_info": {
   "codemirror_mode": {
    "name": "ipython",
    "version": 3
   },
   "file_extension": ".py",
   "mimetype": "text/x-python",
   "name": "python",
   "nbconvert_exporter": "python",
   "pygments_lexer": "ipython3",
   "version": "3.10.9"
  }
 },
 "nbformat": 4,
 "nbformat_minor": 5
}

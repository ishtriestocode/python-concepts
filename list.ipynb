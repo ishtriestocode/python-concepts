{
 "cells": [
  {
   "cell_type": "code",
   "execution_count": 10,
   "id": "67e95f86",
   "metadata": {},
   "outputs": [
    {
     "data": {
      "text/plain": [
       "[2,\n",
       " 4,\n",
       " 67,\n",
       " 8,\n",
       " 93,\n",
       " 45,\n",
       " 67,\n",
       " 24,\n",
       " 56,\n",
       " 'ish',\n",
       " 'hello',\n",
       " 'tutu',\n",
       " 2,\n",
       " 4,\n",
       " 67,\n",
       " 8,\n",
       " 93,\n",
       " 45,\n",
       " 67,\n",
       " 24,\n",
       " 56,\n",
       " 'ish',\n",
       " 'hello',\n",
       " 'tutu']"
      ]
     },
     "execution_count": 10,
     "metadata": {},
     "output_type": "execute_result"
    }
   ],
   "source": [
    "l=[2,4,67,8,93,45,67,24,56,\"ish\",\"hello\",\"tutu\"]\n",
    "l\n",
    "l*2"
   ]
  },
  {
   "cell_type": "code",
   "execution_count": 11,
   "id": "ba67716d",
   "metadata": {},
   "outputs": [
    {
     "data": {
      "text/plain": [
       "12"
      ]
     },
     "execution_count": 11,
     "metadata": {},
     "output_type": "execute_result"
    }
   ],
   "source": [
    "len(l)"
   ]
  },
  {
   "cell_type": "code",
   "execution_count": 16,
   "id": "922a5732",
   "metadata": {},
   "outputs": [
    {
     "data": {
      "text/plain": [
       "[2, 4, 67, 8, 93, 45, 67, 24, 56, 'ish', 'hello', 'tutu', 7]"
      ]
     },
     "execution_count": 16,
     "metadata": {},
     "output_type": "execute_result"
    }
   ],
   "source": [
    "l+[7]"
   ]
  },
  {
   "cell_type": "code",
   "execution_count": 20,
   "id": "f66998c6",
   "metadata": {},
   "outputs": [
    {
     "name": "stdout",
     "output_type": "stream",
     "text": [
      "0\n",
      "1\n",
      "2\n",
      "3\n",
      "4\n",
      "5\n",
      "6\n",
      "7\n",
      "8\n",
      "9\n",
      "10\n",
      "11\n"
     ]
    }
   ],
   "source": [
    "for h in range(len(l)):\n",
    "    print(h)"
   ]
  },
  {
   "cell_type": "code",
   "execution_count": 23,
   "id": "fe014231",
   "metadata": {},
   "outputs": [
    {
     "name": "stdout",
     "output_type": "stream",
     "text": [
      "2\n",
      "4\n",
      "67\n",
      "8\n",
      "93\n",
      "45\n",
      "67\n",
      "24\n",
      "56\n",
      "ish\n",
      "hello\n",
      "tutu\n"
     ]
    }
   ],
   "source": [
    "for h in range (len(l)):\n",
    "    print(l[h])"
   ]
  },
  {
   "cell_type": "code",
   "execution_count": 24,
   "id": "063916bf",
   "metadata": {},
   "outputs": [
    {
     "name": "stdout",
     "output_type": "stream",
     "text": [
      "[2, 4, 67, 8, 93, 45, 67, 24, 56, 'ish', 'hello', 'tutu']\n",
      "[2, 4, 67, 8, 93, 45, 67, 24, 56, 'ish', 'hello', 'tutu']\n",
      "[2, 4, 67, 8, 93, 45, 67, 24, 56, 'ish', 'hello', 'tutu']\n",
      "[2, 4, 67, 8, 93, 45, 67, 24, 56, 'ish', 'hello', 'tutu']\n",
      "[2, 4, 67, 8, 93, 45, 67, 24, 56, 'ish', 'hello', 'tutu']\n",
      "[2, 4, 67, 8, 93, 45, 67, 24, 56, 'ish', 'hello', 'tutu']\n",
      "[2, 4, 67, 8, 93, 45, 67, 24, 56, 'ish', 'hello', 'tutu']\n",
      "[2, 4, 67, 8, 93, 45, 67, 24, 56, 'ish', 'hello', 'tutu']\n",
      "[2, 4, 67, 8, 93, 45, 67, 24, 56, 'ish', 'hello', 'tutu']\n",
      "[2, 4, 67, 8, 93, 45, 67, 24, 56, 'ish', 'hello', 'tutu']\n",
      "[2, 4, 67, 8, 93, 45, 67, 24, 56, 'ish', 'hello', 'tutu']\n",
      "[2, 4, 67, 8, 93, 45, 67, 24, 56, 'ish', 'hello', 'tutu']\n"
     ]
    }
   ],
   "source": [
    "for h in range(len(l)):\n",
    "    print(l)"
   ]
  },
  {
   "cell_type": "code",
   "execution_count": 27,
   "id": "0691bc47",
   "metadata": {},
   "outputs": [
    {
     "data": {
      "text/plain": [
       "[1, 4, 5, 6, 4, 4343, 23, 1, 4, 5, 6, 4, 4343, 23]"
      ]
     },
     "execution_count": 27,
     "metadata": {},
     "output_type": "execute_result"
    }
   ],
   "source": [
    "p=[1,4,5,6,4,4343,23]\n",
    "p*2"
   ]
  },
  {
   "cell_type": "code",
   "execution_count": 28,
   "id": "25cee39f",
   "metadata": {},
   "outputs": [
    {
     "data": {
      "text/plain": [
       "False"
      ]
     },
     "execution_count": 28,
     "metadata": {},
     "output_type": "execute_result"
    }
   ],
   "source": [
    "a=[\"ISHita\"]\n",
    "b=[\"ishita\"]\n",
    "a>b\n"
   ]
  },
  {
   "cell_type": "code",
   "execution_count": 4,
   "id": "3d4302a9",
   "metadata": {},
   "outputs": [],
   "source": [
    "l=[2,4,6,7,24,343,435,3534,34,34,456,45]\n",
    "for h in range(-1,len(l)-1,-1):\n",
    "    print(h)\n",
    "    \n",
    "    "
   ]
  },
  {
   "cell_type": "code",
   "execution_count": 8,
   "id": "6ae5471c",
   "metadata": {},
   "outputs": [
    {
     "data": {
      "text/plain": [
       "['i', 's', 'h', 'i', 't', 'a']"
      ]
     },
     "execution_count": 8,
     "metadata": {},
     "output_type": "execute_result"
    }
   ],
   "source": [
    "s=\"ishita\"\n",
    "p=list(s)\n",
    "p"
   ]
  },
  {
   "cell_type": "code",
   "execution_count": 10,
   "id": "67d16079",
   "metadata": {},
   "outputs": [
    {
     "data": {
      "text/plain": [
       "9"
      ]
     },
     "execution_count": 10,
     "metadata": {},
     "output_type": "execute_result"
    }
   ],
   "source": [
    "l=[2,4,67,8,93,45,67,24,56,\"ish\",\"hello\",\"tutu\"]\n",
    "l.index(\"ish\")"
   ]
  },
  {
   "cell_type": "code",
   "execution_count": 11,
   "id": "f4545abe",
   "metadata": {},
   "outputs": [
    {
     "data": {
      "text/plain": [
       "4"
      ]
     },
     "execution_count": 11,
     "metadata": {},
     "output_type": "execute_result"
    }
   ],
   "source": [
    "l.index(93)"
   ]
  },
  {
   "cell_type": "code",
   "execution_count": 16,
   "id": "09140535",
   "metadata": {},
   "outputs": [
    {
     "data": {
      "text/plain": [
       "[2, 4, 67, 8, 93, 45, 67, 24, 56, 'ish', 'hello', 'tutu', 6, 6, 7, 8]"
      ]
     },
     "execution_count": 16,
     "metadata": {},
     "output_type": "execute_result"
    }
   ],
   "source": [
    "l.append(8)\n",
    "l"
   ]
  },
  {
   "cell_type": "code",
   "execution_count": 17,
   "id": "4d61f184",
   "metadata": {},
   "outputs": [
    {
     "data": {
      "text/plain": [
       "[2, 4, 67, 8, 93, 45, 67, 24, 56, 'ish', 'hello', 'tutu', 6, 6, 7, 8]"
      ]
     },
     "execution_count": 17,
     "metadata": {},
     "output_type": "execute_result"
    }
   ],
   "source": [
    "l"
   ]
  },
  {
   "cell_type": "code",
   "execution_count": 21,
   "id": "2262e6c2",
   "metadata": {},
   "outputs": [
    {
     "data": {
      "text/plain": [
       "[2,\n",
       " 4,\n",
       " 67,\n",
       " 8,\n",
       " 93,\n",
       " 45,\n",
       " 67,\n",
       " 24,\n",
       " 56,\n",
       " 'ish',\n",
       " 'hello',\n",
       " 'tutu',\n",
       " 6,\n",
       " 6,\n",
       " 7,\n",
       " 8,\n",
       " '4',\n",
       " '4',\n",
       " ',',\n",
       " '5',\n",
       " '5',\n",
       " ',',\n",
       " '6',\n",
       " '6',\n",
       " ',',\n",
       " '7',\n",
       " '7',\n",
       " ',',\n",
       " '8',\n",
       " '8',\n",
       " '4',\n",
       " '4',\n",
       " ',',\n",
       " '5',\n",
       " '5',\n",
       " ',',\n",
       " '6',\n",
       " '6',\n",
       " ',',\n",
       " '7',\n",
       " '7',\n",
       " ',',\n",
       " '8',\n",
       " '8']"
      ]
     },
     "execution_count": 21,
     "metadata": {},
     "output_type": "execute_result"
    }
   ],
   "source": [
    "l.extend(\"44,55,66,77,88\")\n",
    "l"
   ]
  },
  {
   "cell_type": "code",
   "execution_count": 25,
   "id": "64b2e6ea",
   "metadata": {},
   "outputs": [
    {
     "data": {
      "text/plain": [
       "[300, 33, 44, 55, 66, 77, 22, 333, 444, 555, 223, 1212, 4444, 555]"
      ]
     },
     "execution_count": 25,
     "metadata": {},
     "output_type": "execute_result"
    }
   ],
   "source": [
    "l=[33,44,55,66,77,22,333,444,555,223,1212,4444,555]\n",
    "l.insert(0,300)\n",
    "l"
   ]
  },
  {
   "cell_type": "code",
   "execution_count": 26,
   "id": "f6592ea7",
   "metadata": {},
   "outputs": [
    {
     "data": {
      "text/plain": [
       "555"
      ]
     },
     "execution_count": 26,
     "metadata": {},
     "output_type": "execute_result"
    }
   ],
   "source": [
    "l.pop()"
   ]
  },
  {
   "cell_type": "code",
   "execution_count": 30,
   "id": "43cae0f7",
   "metadata": {},
   "outputs": [
    {
     "data": {
      "text/plain": [
       "[300, 33, 44, 55, 66, 77, 22, 333, 444, 223, 1212, 4444]"
      ]
     },
     "execution_count": 30,
     "metadata": {},
     "output_type": "execute_result"
    }
   ],
   "source": [
    "l.remove(555)\n",
    "l"
   ]
  },
  {
   "cell_type": "code",
   "execution_count": 31,
   "id": "1661ee3a",
   "metadata": {},
   "outputs": [
    {
     "data": {
      "text/plain": [
       "77"
      ]
     },
     "execution_count": 31,
     "metadata": {},
     "output_type": "execute_result"
    }
   ],
   "source": [
    "l.pop(5)"
   ]
  },
  {
   "cell_type": "code",
   "execution_count": 37,
   "id": "f8f04a73",
   "metadata": {},
   "outputs": [
    {
     "data": {
      "text/plain": [
       "[44, 66, 22, 444, 223, 4444, 555]"
      ]
     },
     "execution_count": 37,
     "metadata": {},
     "output_type": "execute_result"
    }
   ],
   "source": [
    "l=[33,44,55,66,77,22,333,444,555,223,1212,4444,555]\n",
    "del l[0:11:2]\n",
    "l"
   ]
  },
  {
   "cell_type": "code",
   "execution_count": 39,
   "id": "397c4948",
   "metadata": {},
   "outputs": [
    {
     "data": {
      "text/plain": [
       "[22, 223, 555]"
      ]
     },
     "execution_count": 39,
     "metadata": {},
     "output_type": "execute_result"
    }
   ],
   "source": [
    "del l[0:6:3]\n",
    "l"
   ]
  },
  {
   "cell_type": "code",
   "execution_count": 41,
   "id": "d18b8a6e",
   "metadata": {},
   "outputs": [
    {
     "data": {
      "text/plain": [
       "[555, 4444, 1212, 223, 555, 444, 333, 22, 77, 66, 55, 44, 33]"
      ]
     },
     "execution_count": 41,
     "metadata": {},
     "output_type": "execute_result"
    }
   ],
   "source": [
    "l=[33,44,55,66,77,22,333,444,555,223,1212,4444,555]\n",
    "l.reverse()\n",
    "l"
   ]
  },
  {
   "cell_type": "code",
   "execution_count": 43,
   "id": "0c710599",
   "metadata": {},
   "outputs": [
    {
     "data": {
      "text/plain": [
       "1"
      ]
     },
     "execution_count": 43,
     "metadata": {},
     "output_type": "execute_result"
    }
   ],
   "source": [
    "l.count(44)"
   ]
  },
  {
   "cell_type": "code",
   "execution_count": 1,
   "id": "066696a7",
   "metadata": {},
   "outputs": [],
   "source": [
    "l=[33,44,55,66,77,22,333,444,555,223,1212,4444,555]\n",
    "for h in range(-1,len(l)-1,-1):\n",
    "    print(h)"
   ]
  },
  {
   "cell_type": "code",
   "execution_count": 26,
   "id": "136c3fcd",
   "metadata": {},
   "outputs": [
    {
     "data": {
      "text/plain": [
       "[99, 44, 55, 66, 77, 33]"
      ]
     },
     "execution_count": 26,
     "metadata": {},
     "output_type": "execute_result"
    }
   ],
   "source": [
    "#to interchange first and last element in list\n",
    "p=[33,44,55,66,77,99]\n",
    "i=p.pop()\n",
    "temp=i\n",
    "p.insert(0,i)\n",
    "j=p.pop(1)\n",
    "p.append(j)\n",
    "p"
   ]
  },
  {
   "cell_type": "code",
   "execution_count": 14,
   "id": "7a02b1ff",
   "metadata": {},
   "outputs": [
    {
     "data": {
      "text/plain": [
       "[33, 44, 55, 66, 77]"
      ]
     },
     "execution_count": 14,
     "metadata": {},
     "output_type": "execute_result"
    }
   ],
   "source": [
    "p=[33,44,55,66,77,99]\n",
    "i=p.pop()\n",
    "temp=i\n",
    "p"
   ]
  },
  {
   "cell_type": "code",
   "execution_count": 18,
   "id": "77eb2c5f",
   "metadata": {},
   "outputs": [
    {
     "data": {
      "text/plain": [
       "[99, 99, 99, 33, 44, 55, 66, 77, 99]"
      ]
     },
     "execution_count": 18,
     "metadata": {},
     "output_type": "execute_result"
    }
   ],
   "source": [
    "p.insert(0,i)\n",
    "p"
   ]
  },
  {
   "cell_type": "code",
   "execution_count": 19,
   "id": "3a0d227a",
   "metadata": {},
   "outputs": [
    {
     "data": {
      "text/plain": [
       "[99, 99, 99, 33, 44, 55, 66, 77, 99]"
      ]
     },
     "execution_count": 19,
     "metadata": {},
     "output_type": "execute_result"
    }
   ],
   "source": [
    "p\n"
   ]
  },
  {
   "cell_type": "code",
   "execution_count": 25,
   "id": "d2ef9228",
   "metadata": {},
   "outputs": [
    {
     "data": {
      "text/plain": [
       "[99, 22, 33, 44, 55, 66, 77, 88, 11]"
      ]
     },
     "execution_count": 25,
     "metadata": {},
     "output_type": "execute_result"
    }
   ],
   "source": [
    "q=[11,22,33,44,55,66,77,88,99]\n",
    "i=q.pop()\n",
    "temp=i\n",
    "q.insert(0,i)\n",
    "j=q.pop(1)\n",
    "q.append(j)\n",
    "q"
   ]
  },
  {
   "cell_type": "code",
   "execution_count": 27,
   "id": "7bc4ebfe",
   "metadata": {},
   "outputs": [
    {
     "data": {
      "text/plain": [
       "495"
      ]
     },
     "execution_count": 27,
     "metadata": {},
     "output_type": "execute_result"
    }
   ],
   "source": [
    "sum(q)"
   ]
  },
  {
   "cell_type": "code",
   "execution_count": 30,
   "id": "a83400e6",
   "metadata": {},
   "outputs": [
    {
     "data": {
      "text/plain": [
       "[11, 22, 33, 44, 55, 66, 77, 88, 99]"
      ]
     },
     "execution_count": 30,
     "metadata": {},
     "output_type": "execute_result"
    }
   ],
   "source": [
    "q.sort()\n",
    "q"
   ]
  },
  {
   "cell_type": "code",
   "execution_count": 31,
   "id": "d31ebe5a",
   "metadata": {},
   "outputs": [
    {
     "name": "stdout",
     "output_type": "stream",
     "text": [
      "enter the terms:22,33,44,55,66\n",
      "enter the number to be added:56\n"
     ]
    },
    {
     "data": {
      "text/plain": [
       "(22, 33, 44, 55, 66, 56)"
      ]
     },
     "execution_count": 31,
     "metadata": {},
     "output_type": "execute_result"
    }
   ],
   "source": [
    "x=list(eval(input(\"enter the terms:\")))\n",
    "no=(eval(input(\"enter the number to be added:\")))\n",
    "y=list(x)\n",
    "y.append(no)\n",
    "a=tuple(y)\n",
    "a"
   ]
  },
  {
   "cell_type": "code",
   "execution_count": null,
   "id": "e98184c6",
   "metadata": {},
   "outputs": [],
   "source": []
  }
 ],
 "metadata": {
  "kernelspec": {
   "display_name": "Python 3 (ipykernel)",
   "language": "python",
   "name": "python3"
  },
  "language_info": {
   "codemirror_mode": {
    "name": "ipython",
    "version": 3
   },
   "file_extension": ".py",
   "mimetype": "text/x-python",
   "name": "python",
   "nbconvert_exporter": "python",
   "pygments_lexer": "ipython3",
   "version": "3.10.9"
  }
 },
 "nbformat": 4,
 "nbformat_minor": 5
}
